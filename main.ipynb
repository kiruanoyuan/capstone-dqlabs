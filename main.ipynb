{
 "cells": [
  {
   "cell_type": "markdown",
   "metadata": {
    "id": "C45aCy6VV0ti"
   },
   "source": [
    "# Import Libraries"
   ]
  },
  {
   "cell_type": "code",
   "execution_count": 204,
   "metadata": {
    "id": "gUXwihdMV23m"
   },
   "outputs": [],
   "source": [
    "import pandas as pd\n",
    "import numpy as np\n",
    "\n",
    "#test by alex"
   ]
  },
  {
   "cell_type": "code",
   "execution_count": 205,
   "metadata": {
    "id": "TiOAYFnPWC9M"
   },
   "outputs": [],
   "source": [
    "# Import Dataset\n",
    "df = pd.read_excel('data_excel.xlsx')"
   ]
  },
  {
   "cell_type": "code",
   "execution_count": 206,
   "metadata": {
    "colab": {
     "base_uri": "https://localhost:8080/",
     "height": 206
    },
    "id": "6Ysw7bQ_x-_4",
    "outputId": "582d4a1b-4999-42fd-dc75-9756f485c3f2"
   },
   "outputs": [
    {
     "data": {
      "text/plain": "   kd_lpse           nama_lpse  kd_tender  \\\n0       10  LPSE Kota Surabaya   10682010   \n1       10  LPSE Kota Surabaya   10683010   \n2       10  LPSE Kota Surabaya   10684010   \n3       10  LPSE Kota Surabaya   10685010   \n4       10  LPSE Kota Surabaya   10690010   \n\n                                          nama_paket        pagu  \\\n0  Biaya Manajemen Konstruksi (Tidak Sederhana), ...  1147520000   \n1  Biaya Pengawasan Fisik (Tidak Sederhana), Nila...   297000000   \n2  Biaya Pengawasan Fisik (Tidak Sederhana), Nila...   297000000   \n3  Biaya Pengawasan Fisik (Tidak Sederhana), Nila...   176000000   \n4    Pekerjaan Pengangkutan Sampah Surabaya Timur II  5561005049   \n\n            hps   ang     kualifikasi_paket  \\\n0  1.139435e+09  APBD              Menengah   \n1  2.967800e+08  APBD      Perusahaan Kecil   \n2  2.967800e+08  APBD      Perusahaan Kecil   \n3  1.710500e+08  APBD      Perusahaan Kecil   \n4  4.697102e+09  APBD  Perusahaan Non Kecil   \n\n                        kategori_pengadaan mtd_pemilihan        mtd_evaluasi  \\\n0  Jasa Konsultansi Badan Usaha Konstruksi       Seleksi  Kualitas dan Biaya   \n1  Jasa Konsultansi Badan Usaha Konstruksi       Seleksi  Kualitas dan Biaya   \n2  Jasa Konsultansi Badan Usaha Konstruksi       Seleksi  Kualitas dan Biaya   \n3  Jasa Konsultansi Badan Usaha Konstruksi       Seleksi  Kualitas dan Biaya   \n4                             Jasa Lainnya        Tender        Sistem Gugur   \n\n               mtd_kualifikasi kontrak_pembayaran  nilai_penawaran  \\\n0  Pra Dua File Kualitas Biaya    Waktu Penugasan     1.037300e+09   \n1  Pra Dua File Kualitas Biaya    Waktu Penugasan     2.475550e+08   \n2  Pra Dua File Kualitas Biaya    Waktu Penugasan     2.750110e+08   \n3  Pra Dua File Kualitas Biaya    Waktu Penugasan     1.235300e+08   \n4              Pasca Satu File       Harga Satuan     4.692706e+09   \n\n   nilai_terkoreksi  nilai_negosiasi  nilai_reverse_auction  nilai_kontrak  \n0      1.037300e+09     1.034385e+09                    0.0   1.034385e+09  \n1      2.475550e+08     2.472250e+08                    0.0   2.472250e+08  \n2      2.750110e+08     2.748570e+08                    0.0   2.748570e+08  \n3      1.235300e+08     1.222100e+08                    0.0   1.222100e+08  \n4      4.692706e+09     4.689403e+09                    0.0   4.689403e+09  ",
      "text/html": "<div>\n<style scoped>\n    .dataframe tbody tr th:only-of-type {\n        vertical-align: middle;\n    }\n\n    .dataframe tbody tr th {\n        vertical-align: top;\n    }\n\n    .dataframe thead th {\n        text-align: right;\n    }\n</style>\n<table border=\"1\" class=\"dataframe\">\n  <thead>\n    <tr style=\"text-align: right;\">\n      <th></th>\n      <th>kd_lpse</th>\n      <th>nama_lpse</th>\n      <th>kd_tender</th>\n      <th>nama_paket</th>\n      <th>pagu</th>\n      <th>hps</th>\n      <th>ang</th>\n      <th>kualifikasi_paket</th>\n      <th>kategori_pengadaan</th>\n      <th>mtd_pemilihan</th>\n      <th>mtd_evaluasi</th>\n      <th>mtd_kualifikasi</th>\n      <th>kontrak_pembayaran</th>\n      <th>nilai_penawaran</th>\n      <th>nilai_terkoreksi</th>\n      <th>nilai_negosiasi</th>\n      <th>nilai_reverse_auction</th>\n      <th>nilai_kontrak</th>\n    </tr>\n  </thead>\n  <tbody>\n    <tr>\n      <th>0</th>\n      <td>10</td>\n      <td>LPSE Kota Surabaya</td>\n      <td>10682010</td>\n      <td>Biaya Manajemen Konstruksi (Tidak Sederhana), ...</td>\n      <td>1147520000</td>\n      <td>1.139435e+09</td>\n      <td>APBD</td>\n      <td>Menengah</td>\n      <td>Jasa Konsultansi Badan Usaha Konstruksi</td>\n      <td>Seleksi</td>\n      <td>Kualitas dan Biaya</td>\n      <td>Pra Dua File Kualitas Biaya</td>\n      <td>Waktu Penugasan</td>\n      <td>1.037300e+09</td>\n      <td>1.037300e+09</td>\n      <td>1.034385e+09</td>\n      <td>0.0</td>\n      <td>1.034385e+09</td>\n    </tr>\n    <tr>\n      <th>1</th>\n      <td>10</td>\n      <td>LPSE Kota Surabaya</td>\n      <td>10683010</td>\n      <td>Biaya Pengawasan Fisik (Tidak Sederhana), Nila...</td>\n      <td>297000000</td>\n      <td>2.967800e+08</td>\n      <td>APBD</td>\n      <td>Perusahaan Kecil</td>\n      <td>Jasa Konsultansi Badan Usaha Konstruksi</td>\n      <td>Seleksi</td>\n      <td>Kualitas dan Biaya</td>\n      <td>Pra Dua File Kualitas Biaya</td>\n      <td>Waktu Penugasan</td>\n      <td>2.475550e+08</td>\n      <td>2.475550e+08</td>\n      <td>2.472250e+08</td>\n      <td>0.0</td>\n      <td>2.472250e+08</td>\n    </tr>\n    <tr>\n      <th>2</th>\n      <td>10</td>\n      <td>LPSE Kota Surabaya</td>\n      <td>10684010</td>\n      <td>Biaya Pengawasan Fisik (Tidak Sederhana), Nila...</td>\n      <td>297000000</td>\n      <td>2.967800e+08</td>\n      <td>APBD</td>\n      <td>Perusahaan Kecil</td>\n      <td>Jasa Konsultansi Badan Usaha Konstruksi</td>\n      <td>Seleksi</td>\n      <td>Kualitas dan Biaya</td>\n      <td>Pra Dua File Kualitas Biaya</td>\n      <td>Waktu Penugasan</td>\n      <td>2.750110e+08</td>\n      <td>2.750110e+08</td>\n      <td>2.748570e+08</td>\n      <td>0.0</td>\n      <td>2.748570e+08</td>\n    </tr>\n    <tr>\n      <th>3</th>\n      <td>10</td>\n      <td>LPSE Kota Surabaya</td>\n      <td>10685010</td>\n      <td>Biaya Pengawasan Fisik (Tidak Sederhana), Nila...</td>\n      <td>176000000</td>\n      <td>1.710500e+08</td>\n      <td>APBD</td>\n      <td>Perusahaan Kecil</td>\n      <td>Jasa Konsultansi Badan Usaha Konstruksi</td>\n      <td>Seleksi</td>\n      <td>Kualitas dan Biaya</td>\n      <td>Pra Dua File Kualitas Biaya</td>\n      <td>Waktu Penugasan</td>\n      <td>1.235300e+08</td>\n      <td>1.235300e+08</td>\n      <td>1.222100e+08</td>\n      <td>0.0</td>\n      <td>1.222100e+08</td>\n    </tr>\n    <tr>\n      <th>4</th>\n      <td>10</td>\n      <td>LPSE Kota Surabaya</td>\n      <td>10690010</td>\n      <td>Pekerjaan Pengangkutan Sampah Surabaya Timur II</td>\n      <td>5561005049</td>\n      <td>4.697102e+09</td>\n      <td>APBD</td>\n      <td>Perusahaan Non Kecil</td>\n      <td>Jasa Lainnya</td>\n      <td>Tender</td>\n      <td>Sistem Gugur</td>\n      <td>Pasca Satu File</td>\n      <td>Harga Satuan</td>\n      <td>4.692706e+09</td>\n      <td>4.692706e+09</td>\n      <td>4.689403e+09</td>\n      <td>0.0</td>\n      <td>4.689403e+09</td>\n    </tr>\n  </tbody>\n</table>\n</div>"
     },
     "execution_count": 206,
     "metadata": {},
     "output_type": "execute_result"
    }
   ],
   "source": [
    "# check 5 data teratas\n",
    "df.head()"
   ]
  },
  {
   "cell_type": "code",
   "execution_count": 207,
   "metadata": {},
   "outputs": [
    {
     "data": {
      "text/plain": "kd_lpse                     0\nnama_lpse                   0\nkd_tender                   0\nnama_paket                  0\npagu                        0\nhps                         0\nang                         0\nkualifikasi_paket        3705\nkategori_pengadaan          0\nmtd_pemilihan               0\nmtd_evaluasi                0\nmtd_kualifikasi             0\nkontrak_pembayaran          0\nnilai_penawaran          1029\nnilai_terkoreksi         1029\nnilai_negosiasi          1029\nnilai_reverse_auction    1029\nnilai_kontrak            1029\ndtype: int64"
     },
     "execution_count": 207,
     "metadata": {},
     "output_type": "execute_result"
    }
   ],
   "source": [
    "df.isnull().sum()"
   ]
  },
  {
   "cell_type": "code",
   "execution_count": 208,
   "metadata": {},
   "outputs": [
    {
     "data": {
      "text/plain": "0                    Menengah\n1            Perusahaan Kecil\n2            Perusahaan Kecil\n3            Perusahaan Kecil\n4        Perusahaan Non Kecil\n                 ...         \n91454        Perusahaan Kecil\n91455        Perusahaan Kecil\n91456        Perusahaan Kecil\n91457        Perusahaan Kecil\n91458        Perusahaan Kecil\nName: kualifikasi_paket, Length: 91459, dtype: object"
     },
     "execution_count": 208,
     "metadata": {},
     "output_type": "execute_result"
    }
   ],
   "source": [
    "df['kualifikasi_paket']\n",
    "# df['nilai_terkoreksi']\n",
    "# df['nilai_penawaran']\n",
    "# df['nilai_negosiasi']\n",
    "# df['nilai_reverse_auction']\n",
    "# df['nilai_kontrak']"
   ]
  },
  {
   "cell_type": "code",
   "execution_count": 209,
   "metadata": {},
   "outputs": [],
   "source": [
    "# Mengambil kolom yang diinginkan dari DataFrame\n",
    "kolom_yang_diinginkan = [\"pagu\", \"hps\", \"kategori_pengadaan\", \"nilai_penawaran\", \"nilai_terkoreksi\", \"nilai_negosiasi\", \"nilai_kontrak\"]\n",
    "df = df[kolom_yang_diinginkan]"
   ]
  },
  {
   "cell_type": "code",
   "execution_count": 210,
   "metadata": {},
   "outputs": [
    {
     "data": {
      "text/plain": "             pagu           hps                       kategori_pengadaan  \\\n0      1147520000  1.139435e+09  Jasa Konsultansi Badan Usaha Konstruksi   \n1       297000000  2.967800e+08  Jasa Konsultansi Badan Usaha Konstruksi   \n2       297000000  2.967800e+08  Jasa Konsultansi Badan Usaha Konstruksi   \n3       176000000  1.710500e+08  Jasa Konsultansi Badan Usaha Konstruksi   \n4      5561005049  4.697102e+09                             Jasa Lainnya   \n...           ...           ...                                      ...   \n91454  1150000000  1.149991e+09                     Pekerjaan Konstruksi   \n91455   380000000  3.799916e+08                     Pekerjaan Konstruksi   \n91456   700000000  6.999880e+08                     Pekerjaan Konstruksi   \n91457   650000000  6.499871e+08                     Pekerjaan Konstruksi   \n91458   420000000  4.199984e+08                     Pekerjaan Konstruksi   \n\n       nilai_penawaran  nilai_terkoreksi  nilai_negosiasi  nilai_kontrak  \n0         1.037300e+09      1.037300e+09     1.034385e+09   1.034385e+09  \n1         2.475550e+08      2.475550e+08     2.472250e+08   2.472250e+08  \n2         2.750110e+08      2.750110e+08     2.748570e+08   2.748570e+08  \n3         1.235300e+08      1.235300e+08     1.222100e+08   1.222100e+08  \n4         4.692706e+09      4.692706e+09     4.689403e+09   4.689403e+09  \n...                ...               ...              ...            ...  \n91454     1.108964e+09      1.108964e+09     0.000000e+00   1.108964e+09  \n91455     3.325000e+08      3.325000e+08     3.291700e+08   3.291700e+08  \n91456     5.220834e+08      5.220834e+08     0.000000e+00   5.220834e+08  \n91457     5.199897e+08      5.199897e+08     0.000000e+00   5.199897e+08  \n91458     3.359987e+08      3.359987e+08     0.000000e+00   3.359987e+08  \n\n[91459 rows x 7 columns]",
      "text/html": "<div>\n<style scoped>\n    .dataframe tbody tr th:only-of-type {\n        vertical-align: middle;\n    }\n\n    .dataframe tbody tr th {\n        vertical-align: top;\n    }\n\n    .dataframe thead th {\n        text-align: right;\n    }\n</style>\n<table border=\"1\" class=\"dataframe\">\n  <thead>\n    <tr style=\"text-align: right;\">\n      <th></th>\n      <th>pagu</th>\n      <th>hps</th>\n      <th>kategori_pengadaan</th>\n      <th>nilai_penawaran</th>\n      <th>nilai_terkoreksi</th>\n      <th>nilai_negosiasi</th>\n      <th>nilai_kontrak</th>\n    </tr>\n  </thead>\n  <tbody>\n    <tr>\n      <th>0</th>\n      <td>1147520000</td>\n      <td>1.139435e+09</td>\n      <td>Jasa Konsultansi Badan Usaha Konstruksi</td>\n      <td>1.037300e+09</td>\n      <td>1.037300e+09</td>\n      <td>1.034385e+09</td>\n      <td>1.034385e+09</td>\n    </tr>\n    <tr>\n      <th>1</th>\n      <td>297000000</td>\n      <td>2.967800e+08</td>\n      <td>Jasa Konsultansi Badan Usaha Konstruksi</td>\n      <td>2.475550e+08</td>\n      <td>2.475550e+08</td>\n      <td>2.472250e+08</td>\n      <td>2.472250e+08</td>\n    </tr>\n    <tr>\n      <th>2</th>\n      <td>297000000</td>\n      <td>2.967800e+08</td>\n      <td>Jasa Konsultansi Badan Usaha Konstruksi</td>\n      <td>2.750110e+08</td>\n      <td>2.750110e+08</td>\n      <td>2.748570e+08</td>\n      <td>2.748570e+08</td>\n    </tr>\n    <tr>\n      <th>3</th>\n      <td>176000000</td>\n      <td>1.710500e+08</td>\n      <td>Jasa Konsultansi Badan Usaha Konstruksi</td>\n      <td>1.235300e+08</td>\n      <td>1.235300e+08</td>\n      <td>1.222100e+08</td>\n      <td>1.222100e+08</td>\n    </tr>\n    <tr>\n      <th>4</th>\n      <td>5561005049</td>\n      <td>4.697102e+09</td>\n      <td>Jasa Lainnya</td>\n      <td>4.692706e+09</td>\n      <td>4.692706e+09</td>\n      <td>4.689403e+09</td>\n      <td>4.689403e+09</td>\n    </tr>\n    <tr>\n      <th>...</th>\n      <td>...</td>\n      <td>...</td>\n      <td>...</td>\n      <td>...</td>\n      <td>...</td>\n      <td>...</td>\n      <td>...</td>\n    </tr>\n    <tr>\n      <th>91454</th>\n      <td>1150000000</td>\n      <td>1.149991e+09</td>\n      <td>Pekerjaan Konstruksi</td>\n      <td>1.108964e+09</td>\n      <td>1.108964e+09</td>\n      <td>0.000000e+00</td>\n      <td>1.108964e+09</td>\n    </tr>\n    <tr>\n      <th>91455</th>\n      <td>380000000</td>\n      <td>3.799916e+08</td>\n      <td>Pekerjaan Konstruksi</td>\n      <td>3.325000e+08</td>\n      <td>3.325000e+08</td>\n      <td>3.291700e+08</td>\n      <td>3.291700e+08</td>\n    </tr>\n    <tr>\n      <th>91456</th>\n      <td>700000000</td>\n      <td>6.999880e+08</td>\n      <td>Pekerjaan Konstruksi</td>\n      <td>5.220834e+08</td>\n      <td>5.220834e+08</td>\n      <td>0.000000e+00</td>\n      <td>5.220834e+08</td>\n    </tr>\n    <tr>\n      <th>91457</th>\n      <td>650000000</td>\n      <td>6.499871e+08</td>\n      <td>Pekerjaan Konstruksi</td>\n      <td>5.199897e+08</td>\n      <td>5.199897e+08</td>\n      <td>0.000000e+00</td>\n      <td>5.199897e+08</td>\n    </tr>\n    <tr>\n      <th>91458</th>\n      <td>420000000</td>\n      <td>4.199984e+08</td>\n      <td>Pekerjaan Konstruksi</td>\n      <td>3.359987e+08</td>\n      <td>3.359987e+08</td>\n      <td>0.000000e+00</td>\n      <td>3.359987e+08</td>\n    </tr>\n  </tbody>\n</table>\n<p>91459 rows × 7 columns</p>\n</div>"
     },
     "execution_count": 210,
     "metadata": {},
     "output_type": "execute_result"
    }
   ],
   "source": [
    "df"
   ]
  },
  {
   "cell_type": "code",
   "execution_count": 211,
   "metadata": {},
   "outputs": [
    {
     "name": "stdout",
     "output_type": "stream",
     "text": [
      "<class 'pandas.core.frame.DataFrame'>\n",
      "RangeIndex: 91459 entries, 0 to 91458\n",
      "Data columns (total 7 columns):\n",
      " #   Column              Non-Null Count  Dtype  \n",
      "---  ------              --------------  -----  \n",
      " 0   pagu                91459 non-null  int64  \n",
      " 1   hps                 91459 non-null  float64\n",
      " 2   kategori_pengadaan  91459 non-null  object \n",
      " 3   nilai_penawaran     90430 non-null  float64\n",
      " 4   nilai_terkoreksi    90430 non-null  float64\n",
      " 5   nilai_negosiasi     90430 non-null  float64\n",
      " 6   nilai_kontrak       90430 non-null  float64\n",
      "dtypes: float64(5), int64(1), object(1)\n",
      "memory usage: 4.9+ MB\n"
     ]
    }
   ],
   "source": [
    "df.info()"
   ]
  },
  {
   "cell_type": "code",
   "execution_count": 212,
   "metadata": {},
   "outputs": [
    {
     "data": {
      "text/plain": "pagu                     0\nhps                      0\nkategori_pengadaan       0\nnilai_penawaran       1029\nnilai_terkoreksi      1029\nnilai_negosiasi       1029\nnilai_kontrak         1029\ndtype: int64"
     },
     "execution_count": 212,
     "metadata": {},
     "output_type": "execute_result"
    }
   ],
   "source": [
    "df.isnull().sum()"
   ]
  },
  {
   "cell_type": "code",
   "execution_count": 213,
   "metadata": {},
   "outputs": [
    {
     "name": "stdout",
     "output_type": "stream",
     "text": [
      "number of rows before deletion: 91459\n",
      "number of rows after deletion: 90430\n"
     ]
    }
   ],
   "source": [
    "#deletion on rows with missing value\n",
    "print(\"number of rows before deletion:\", len(df))\n",
    "print(\"number of rows after deletion:\", len(df.dropna()))\n",
    "dataclean = df.dropna()"
   ]
  },
  {
   "cell_type": "code",
   "execution_count": 214,
   "metadata": {},
   "outputs": [
    {
     "name": "stdout",
     "output_type": "stream",
     "text": [
      "               Column  Percentage_Null\n",
      "0                pagu              0.0\n",
      "1                 hps              0.0\n",
      "2  kategori_pengadaan              0.0\n",
      "3     nilai_penawaran              0.0\n",
      "4    nilai_terkoreksi              0.0\n",
      "5     nilai_negosiasi              0.0\n",
      "6       nilai_kontrak              0.0\n"
     ]
    }
   ],
   "source": [
    "# Calculate the percentage of null values for each column\n",
    "percentage_null = (dataclean.isnull().sum() / len(dataclean)) * 100\n",
    "\n",
    "# Create a DataFrame to display the percentage of null values and sort it\n",
    "null_summary = pd.DataFrame({\n",
    "    'Column': percentage_null.index,\n",
    "    'Percentage_Null': percentage_null.values\n",
    "})\n",
    "\n",
    "\n",
    "# Sort the DataFrame by the Percentage_Null column in descending order\n",
    "null_summary = null_summary.sort_values(by='Percentage_Null', ascending=False)\n",
    "\n",
    "# Display the sorted DataFrame\n",
    "print(null_summary)"
   ]
  },
  {
   "cell_type": "code",
   "execution_count": 215,
   "metadata": {},
   "outputs": [],
   "source": [
    "dataclean = dataclean.drop_duplicates()"
   ]
  },
  {
   "cell_type": "code",
   "execution_count": 216,
   "metadata": {},
   "outputs": [],
   "source": [
    "dataclean = dataclean.dropna().reset_index()"
   ]
  },
  {
   "cell_type": "code",
   "execution_count": 217,
   "metadata": {},
   "outputs": [
    {
     "data": {
      "text/plain": "       index        pagu           hps  \\\n0          0  1147520000  1.139435e+09   \n1          1   297000000  2.967800e+08   \n2          2   297000000  2.967800e+08   \n3          3   176000000  1.710500e+08   \n4          4  5561005049  4.697102e+09   \n...      ...         ...           ...   \n89940  91454  1150000000  1.149991e+09   \n89941  91455   380000000  3.799916e+08   \n89942  91456   700000000  6.999880e+08   \n89943  91457   650000000  6.499871e+08   \n89944  91458   420000000  4.199984e+08   \n\n                            kategori_pengadaan  nilai_penawaran  \\\n0      Jasa Konsultansi Badan Usaha Konstruksi     1.037300e+09   \n1      Jasa Konsultansi Badan Usaha Konstruksi     2.475550e+08   \n2      Jasa Konsultansi Badan Usaha Konstruksi     2.750110e+08   \n3      Jasa Konsultansi Badan Usaha Konstruksi     1.235300e+08   \n4                                 Jasa Lainnya     4.692706e+09   \n...                                        ...              ...   \n89940                     Pekerjaan Konstruksi     1.108964e+09   \n89941                     Pekerjaan Konstruksi     3.325000e+08   \n89942                     Pekerjaan Konstruksi     5.220834e+08   \n89943                     Pekerjaan Konstruksi     5.199897e+08   \n89944                     Pekerjaan Konstruksi     3.359987e+08   \n\n       nilai_terkoreksi  nilai_negosiasi  nilai_kontrak  \n0          1.037300e+09     1.034385e+09   1.034385e+09  \n1          2.475550e+08     2.472250e+08   2.472250e+08  \n2          2.750110e+08     2.748570e+08   2.748570e+08  \n3          1.235300e+08     1.222100e+08   1.222100e+08  \n4          4.692706e+09     4.689403e+09   4.689403e+09  \n...                 ...              ...            ...  \n89940      1.108964e+09     0.000000e+00   1.108964e+09  \n89941      3.325000e+08     3.291700e+08   3.291700e+08  \n89942      5.220834e+08     0.000000e+00   5.220834e+08  \n89943      5.199897e+08     0.000000e+00   5.199897e+08  \n89944      3.359987e+08     0.000000e+00   3.359987e+08  \n\n[89945 rows x 8 columns]",
      "text/html": "<div>\n<style scoped>\n    .dataframe tbody tr th:only-of-type {\n        vertical-align: middle;\n    }\n\n    .dataframe tbody tr th {\n        vertical-align: top;\n    }\n\n    .dataframe thead th {\n        text-align: right;\n    }\n</style>\n<table border=\"1\" class=\"dataframe\">\n  <thead>\n    <tr style=\"text-align: right;\">\n      <th></th>\n      <th>index</th>\n      <th>pagu</th>\n      <th>hps</th>\n      <th>kategori_pengadaan</th>\n      <th>nilai_penawaran</th>\n      <th>nilai_terkoreksi</th>\n      <th>nilai_negosiasi</th>\n      <th>nilai_kontrak</th>\n    </tr>\n  </thead>\n  <tbody>\n    <tr>\n      <th>0</th>\n      <td>0</td>\n      <td>1147520000</td>\n      <td>1.139435e+09</td>\n      <td>Jasa Konsultansi Badan Usaha Konstruksi</td>\n      <td>1.037300e+09</td>\n      <td>1.037300e+09</td>\n      <td>1.034385e+09</td>\n      <td>1.034385e+09</td>\n    </tr>\n    <tr>\n      <th>1</th>\n      <td>1</td>\n      <td>297000000</td>\n      <td>2.967800e+08</td>\n      <td>Jasa Konsultansi Badan Usaha Konstruksi</td>\n      <td>2.475550e+08</td>\n      <td>2.475550e+08</td>\n      <td>2.472250e+08</td>\n      <td>2.472250e+08</td>\n    </tr>\n    <tr>\n      <th>2</th>\n      <td>2</td>\n      <td>297000000</td>\n      <td>2.967800e+08</td>\n      <td>Jasa Konsultansi Badan Usaha Konstruksi</td>\n      <td>2.750110e+08</td>\n      <td>2.750110e+08</td>\n      <td>2.748570e+08</td>\n      <td>2.748570e+08</td>\n    </tr>\n    <tr>\n      <th>3</th>\n      <td>3</td>\n      <td>176000000</td>\n      <td>1.710500e+08</td>\n      <td>Jasa Konsultansi Badan Usaha Konstruksi</td>\n      <td>1.235300e+08</td>\n      <td>1.235300e+08</td>\n      <td>1.222100e+08</td>\n      <td>1.222100e+08</td>\n    </tr>\n    <tr>\n      <th>4</th>\n      <td>4</td>\n      <td>5561005049</td>\n      <td>4.697102e+09</td>\n      <td>Jasa Lainnya</td>\n      <td>4.692706e+09</td>\n      <td>4.692706e+09</td>\n      <td>4.689403e+09</td>\n      <td>4.689403e+09</td>\n    </tr>\n    <tr>\n      <th>...</th>\n      <td>...</td>\n      <td>...</td>\n      <td>...</td>\n      <td>...</td>\n      <td>...</td>\n      <td>...</td>\n      <td>...</td>\n      <td>...</td>\n    </tr>\n    <tr>\n      <th>89940</th>\n      <td>91454</td>\n      <td>1150000000</td>\n      <td>1.149991e+09</td>\n      <td>Pekerjaan Konstruksi</td>\n      <td>1.108964e+09</td>\n      <td>1.108964e+09</td>\n      <td>0.000000e+00</td>\n      <td>1.108964e+09</td>\n    </tr>\n    <tr>\n      <th>89941</th>\n      <td>91455</td>\n      <td>380000000</td>\n      <td>3.799916e+08</td>\n      <td>Pekerjaan Konstruksi</td>\n      <td>3.325000e+08</td>\n      <td>3.325000e+08</td>\n      <td>3.291700e+08</td>\n      <td>3.291700e+08</td>\n    </tr>\n    <tr>\n      <th>89942</th>\n      <td>91456</td>\n      <td>700000000</td>\n      <td>6.999880e+08</td>\n      <td>Pekerjaan Konstruksi</td>\n      <td>5.220834e+08</td>\n      <td>5.220834e+08</td>\n      <td>0.000000e+00</td>\n      <td>5.220834e+08</td>\n    </tr>\n    <tr>\n      <th>89943</th>\n      <td>91457</td>\n      <td>650000000</td>\n      <td>6.499871e+08</td>\n      <td>Pekerjaan Konstruksi</td>\n      <td>5.199897e+08</td>\n      <td>5.199897e+08</td>\n      <td>0.000000e+00</td>\n      <td>5.199897e+08</td>\n    </tr>\n    <tr>\n      <th>89944</th>\n      <td>91458</td>\n      <td>420000000</td>\n      <td>4.199984e+08</td>\n      <td>Pekerjaan Konstruksi</td>\n      <td>3.359987e+08</td>\n      <td>3.359987e+08</td>\n      <td>0.000000e+00</td>\n      <td>3.359987e+08</td>\n    </tr>\n  </tbody>\n</table>\n<p>89945 rows × 8 columns</p>\n</div>"
     },
     "execution_count": 217,
     "metadata": {},
     "output_type": "execute_result"
    }
   ],
   "source": [
    "dataclean"
   ]
  },
  {
   "cell_type": "code",
   "execution_count": 218,
   "metadata": {},
   "outputs": [
    {
     "name": "stdout",
     "output_type": "stream",
     "text": [
      "<class 'pandas.core.frame.DataFrame'>\n",
      "RangeIndex: 91459 entries, 0 to 91458\n",
      "Data columns (total 7 columns):\n",
      " #   Column              Non-Null Count  Dtype  \n",
      "---  ------              --------------  -----  \n",
      " 0   pagu                91459 non-null  int64  \n",
      " 1   hps                 91459 non-null  float64\n",
      " 2   kategori_pengadaan  91459 non-null  object \n",
      " 3   nilai_penawaran     90430 non-null  float64\n",
      " 4   nilai_terkoreksi    90430 non-null  float64\n",
      " 5   nilai_negosiasi     90430 non-null  float64\n",
      " 6   nilai_kontrak       90430 non-null  float64\n",
      "dtypes: float64(5), int64(1), object(1)\n",
      "memory usage: 4.9+ MB\n",
      "None\n"
     ]
    }
   ],
   "source": [
    "import pandas as pd\n",
    "\n",
    "# Misalkan df adalah DataFrame Anda\n",
    "# df = ...\n",
    "\n",
    "# Mengganti nama kolom\n",
    "dataclean = dataclean.rename(columns={\n",
    "    'pagu': 'PAGU',\n",
    "    'hps': 'HPS',\n",
    "    'kategori_pengadaan': 'KATEGORI_PENGADAAN',\n",
    "    'nilai_penawaran': 'NILAI_PENAWARAN',\n",
    "    'nilai_terkoreksi': 'NILAI_TERKOREKSI',\n",
    "    'nilai_negosiasi': 'NILAI_NEGOSIASI',\n",
    "    'nilai_kontrak': 'NILAI_KONTRAK'\n",
    "})\n",
    "\n",
    "# Tampilkan DataFrame setelah penggantian nama kolom\n",
    "print(df.info())"
   ]
  },
  {
   "cell_type": "code",
   "execution_count": 219,
   "metadata": {},
   "outputs": [
    {
     "name": "stderr",
     "output_type": "stream",
     "text": [
      "/Users/kiruanouyuan/Documents/Pelatihan 2023/workspace/myenv/lib/python3.11/site-packages/sklearn/preprocessing/_label.py:114: DataConversionWarning: A column-vector y was passed when a 1d array was expected. Please change the shape of y to (n_samples, ), for example using ravel().\n",
      "  y = column_or_1d(y, warn=True)\n"
     ]
    }
   ],
   "source": [
    "from sklearn.preprocessing import LabelEncoder\n",
    "\n",
    "# Misalkan df adalah DataFrame Anda\n",
    "# df = ...\n",
    "\n",
    "# Lakukan Label Encoding untuk kolom-kolom kategorikal\n",
    "label_encoder = LabelEncoder()\n",
    "\n",
    "column_categorical = [\"KATEGORI_PENGADAAN\"]\n",
    "encoded_result = label_encoder.fit_transform(dataclean[column_categorical])\n"
   ]
  },
  {
   "cell_type": "code",
   "execution_count": 220,
   "metadata": {},
   "outputs": [],
   "source": [
    "dataclean.drop(column_categorical, inplace=True, axis=1)"
   ]
  },
  {
   "cell_type": "code",
   "execution_count": 221,
   "metadata": {},
   "outputs": [],
   "source": [
    "encoded_dataframe = pd.DataFrame({\"KATEGORI_PENGADAAN\":encoded_result})\n",
    "dataclean = dataclean.merge(encoded_dataframe, left_index=True, right_index=True, how='left')"
   ]
  },
  {
   "cell_type": "code",
   "execution_count": 222,
   "metadata": {},
   "outputs": [
    {
     "data": {
      "text/plain": "       index        PAGU           HPS  NILAI_PENAWARAN  NILAI_TERKOREKSI  \\\n0          0  1147520000  1.139435e+09     1.037300e+09      1.037300e+09   \n1          1   297000000  2.967800e+08     2.475550e+08      2.475550e+08   \n2          2   297000000  2.967800e+08     2.750110e+08      2.750110e+08   \n3          3   176000000  1.710500e+08     1.235300e+08      1.235300e+08   \n4          4  5561005049  4.697102e+09     4.692706e+09      4.692706e+09   \n...      ...         ...           ...              ...               ...   \n89940  91454  1150000000  1.149991e+09     1.108964e+09      1.108964e+09   \n89941  91455   380000000  3.799916e+08     3.325000e+08      3.325000e+08   \n89942  91456   700000000  6.999880e+08     5.220834e+08      5.220834e+08   \n89943  91457   650000000  6.499871e+08     5.199897e+08      5.199897e+08   \n89944  91458   420000000  4.199984e+08     3.359987e+08      3.359987e+08   \n\n       NILAI_NEGOSIASI  NILAI_KONTRAK  KATEGORI_PENGADAAN  \n0         1.034385e+09   1.034385e+09                   1  \n1         2.472250e+08   2.472250e+08                   1  \n2         2.748570e+08   2.748570e+08                   1  \n3         1.222100e+08   1.222100e+08                   1  \n4         4.689403e+09   4.689403e+09                   4  \n...                ...            ...                 ...  \n89940     0.000000e+00   1.108964e+09                   5  \n89941     3.291700e+08   3.291700e+08                   5  \n89942     0.000000e+00   5.220834e+08                   5  \n89943     0.000000e+00   5.199897e+08                   5  \n89944     0.000000e+00   3.359987e+08                   5  \n\n[89945 rows x 8 columns]",
      "text/html": "<div>\n<style scoped>\n    .dataframe tbody tr th:only-of-type {\n        vertical-align: middle;\n    }\n\n    .dataframe tbody tr th {\n        vertical-align: top;\n    }\n\n    .dataframe thead th {\n        text-align: right;\n    }\n</style>\n<table border=\"1\" class=\"dataframe\">\n  <thead>\n    <tr style=\"text-align: right;\">\n      <th></th>\n      <th>index</th>\n      <th>PAGU</th>\n      <th>HPS</th>\n      <th>NILAI_PENAWARAN</th>\n      <th>NILAI_TERKOREKSI</th>\n      <th>NILAI_NEGOSIASI</th>\n      <th>NILAI_KONTRAK</th>\n      <th>KATEGORI_PENGADAAN</th>\n    </tr>\n  </thead>\n  <tbody>\n    <tr>\n      <th>0</th>\n      <td>0</td>\n      <td>1147520000</td>\n      <td>1.139435e+09</td>\n      <td>1.037300e+09</td>\n      <td>1.037300e+09</td>\n      <td>1.034385e+09</td>\n      <td>1.034385e+09</td>\n      <td>1</td>\n    </tr>\n    <tr>\n      <th>1</th>\n      <td>1</td>\n      <td>297000000</td>\n      <td>2.967800e+08</td>\n      <td>2.475550e+08</td>\n      <td>2.475550e+08</td>\n      <td>2.472250e+08</td>\n      <td>2.472250e+08</td>\n      <td>1</td>\n    </tr>\n    <tr>\n      <th>2</th>\n      <td>2</td>\n      <td>297000000</td>\n      <td>2.967800e+08</td>\n      <td>2.750110e+08</td>\n      <td>2.750110e+08</td>\n      <td>2.748570e+08</td>\n      <td>2.748570e+08</td>\n      <td>1</td>\n    </tr>\n    <tr>\n      <th>3</th>\n      <td>3</td>\n      <td>176000000</td>\n      <td>1.710500e+08</td>\n      <td>1.235300e+08</td>\n      <td>1.235300e+08</td>\n      <td>1.222100e+08</td>\n      <td>1.222100e+08</td>\n      <td>1</td>\n    </tr>\n    <tr>\n      <th>4</th>\n      <td>4</td>\n      <td>5561005049</td>\n      <td>4.697102e+09</td>\n      <td>4.692706e+09</td>\n      <td>4.692706e+09</td>\n      <td>4.689403e+09</td>\n      <td>4.689403e+09</td>\n      <td>4</td>\n    </tr>\n    <tr>\n      <th>...</th>\n      <td>...</td>\n      <td>...</td>\n      <td>...</td>\n      <td>...</td>\n      <td>...</td>\n      <td>...</td>\n      <td>...</td>\n      <td>...</td>\n    </tr>\n    <tr>\n      <th>89940</th>\n      <td>91454</td>\n      <td>1150000000</td>\n      <td>1.149991e+09</td>\n      <td>1.108964e+09</td>\n      <td>1.108964e+09</td>\n      <td>0.000000e+00</td>\n      <td>1.108964e+09</td>\n      <td>5</td>\n    </tr>\n    <tr>\n      <th>89941</th>\n      <td>91455</td>\n      <td>380000000</td>\n      <td>3.799916e+08</td>\n      <td>3.325000e+08</td>\n      <td>3.325000e+08</td>\n      <td>3.291700e+08</td>\n      <td>3.291700e+08</td>\n      <td>5</td>\n    </tr>\n    <tr>\n      <th>89942</th>\n      <td>91456</td>\n      <td>700000000</td>\n      <td>6.999880e+08</td>\n      <td>5.220834e+08</td>\n      <td>5.220834e+08</td>\n      <td>0.000000e+00</td>\n      <td>5.220834e+08</td>\n      <td>5</td>\n    </tr>\n    <tr>\n      <th>89943</th>\n      <td>91457</td>\n      <td>650000000</td>\n      <td>6.499871e+08</td>\n      <td>5.199897e+08</td>\n      <td>5.199897e+08</td>\n      <td>0.000000e+00</td>\n      <td>5.199897e+08</td>\n      <td>5</td>\n    </tr>\n    <tr>\n      <th>89944</th>\n      <td>91458</td>\n      <td>420000000</td>\n      <td>4.199984e+08</td>\n      <td>3.359987e+08</td>\n      <td>3.359987e+08</td>\n      <td>0.000000e+00</td>\n      <td>3.359987e+08</td>\n      <td>5</td>\n    </tr>\n  </tbody>\n</table>\n<p>89945 rows × 8 columns</p>\n</div>"
     },
     "execution_count": 222,
     "metadata": {},
     "output_type": "execute_result"
    }
   ],
   "source": [
    "dataclean"
   ]
  },
  {
   "cell_type": "code",
   "execution_count": 223,
   "metadata": {},
   "outputs": [],
   "source": [
    "dataclean['NILAI_NEGOSIASI'] = np.select(condlist=[dataclean['NILAI_NEGOSIASI'] == 0],\n",
    "                                        choicelist=[dataclean['NILAI_TERKOREKSI']],\n",
    "                                        default=dataclean['NILAI_NEGOSIASI'])"
   ]
  },
  {
   "cell_type": "code",
   "execution_count": 224,
   "metadata": {
    "collapsed": false,
    "jupyter": {
     "outputs_hidden": false
    }
   },
   "outputs": [],
   "source": [
    "# Mengambil data kecuali nilai=10\n",
    "dataclean = dataclean[dataclean['PAGU'] != 1]\n"
   ]
  },
  {
   "cell_type": "code",
   "execution_count": 225,
   "metadata": {},
   "outputs": [
    {
     "ename": "KeyError",
     "evalue": "'pagu'",
     "output_type": "error",
     "traceback": [
      "\u001B[0;31m---------------------------------------------------------------------------\u001B[0m",
      "\u001B[0;31mKeyError\u001B[0m                                  Traceback (most recent call last)",
      "File \u001B[0;32m~/Documents/Pelatihan 2023/workspace/myenv/lib/python3.11/site-packages/pandas/core/indexes/base.py:3790\u001B[0m, in \u001B[0;36mIndex.get_loc\u001B[0;34m(self, key)\u001B[0m\n\u001B[1;32m   3789\u001B[0m \u001B[38;5;28;01mtry\u001B[39;00m:\n\u001B[0;32m-> 3790\u001B[0m     \u001B[38;5;28;01mreturn\u001B[39;00m \u001B[38;5;28;43mself\u001B[39;49m\u001B[38;5;241;43m.\u001B[39;49m\u001B[43m_engine\u001B[49m\u001B[38;5;241;43m.\u001B[39;49m\u001B[43mget_loc\u001B[49m\u001B[43m(\u001B[49m\u001B[43mcasted_key\u001B[49m\u001B[43m)\u001B[49m\n\u001B[1;32m   3791\u001B[0m \u001B[38;5;28;01mexcept\u001B[39;00m \u001B[38;5;167;01mKeyError\u001B[39;00m \u001B[38;5;28;01mas\u001B[39;00m err:\n",
      "File \u001B[0;32mindex.pyx:152\u001B[0m, in \u001B[0;36mpandas._libs.index.IndexEngine.get_loc\u001B[0;34m()\u001B[0m\n",
      "File \u001B[0;32mindex.pyx:181\u001B[0m, in \u001B[0;36mpandas._libs.index.IndexEngine.get_loc\u001B[0;34m()\u001B[0m\n",
      "File \u001B[0;32mpandas/_libs/hashtable_class_helper.pxi:7080\u001B[0m, in \u001B[0;36mpandas._libs.hashtable.PyObjectHashTable.get_item\u001B[0;34m()\u001B[0m\n",
      "File \u001B[0;32mpandas/_libs/hashtable_class_helper.pxi:7088\u001B[0m, in \u001B[0;36mpandas._libs.hashtable.PyObjectHashTable.get_item\u001B[0;34m()\u001B[0m\n",
      "\u001B[0;31mKeyError\u001B[0m: 'pagu'",
      "\nThe above exception was the direct cause of the following exception:\n",
      "\u001B[0;31mKeyError\u001B[0m                                  Traceback (most recent call last)",
      "Cell \u001B[0;32mIn[225], line 9\u001B[0m\n\u001B[1;32m      4\u001B[0m \u001B[38;5;28;01mimport\u001B[39;00m \u001B[38;5;21;01mseaborn\u001B[39;00m \u001B[38;5;28;01mas\u001B[39;00m \u001B[38;5;21;01msns\u001B[39;00m\n\u001B[1;32m      5\u001B[0m \u001B[38;5;28;01mimport\u001B[39;00m \u001B[38;5;21;01mmatplotlib\u001B[39;00m\u001B[38;5;21;01m.\u001B[39;00m\u001B[38;5;21;01mpyplot\u001B[39;00m \u001B[38;5;28;01mas\u001B[39;00m \u001B[38;5;21;01mplt\u001B[39;00m\n\u001B[0;32m----> 9\u001B[0m sns\u001B[38;5;241m.\u001B[39mhistplot(\u001B[43mdataclean\u001B[49m\u001B[43m[\u001B[49m\u001B[38;5;124;43m'\u001B[39;49m\u001B[38;5;124;43mpagu\u001B[39;49m\u001B[38;5;124;43m'\u001B[39;49m\u001B[43m]\u001B[49m, kde\u001B[38;5;241m=\u001B[39m\u001B[38;5;28;01mTrue\u001B[39;00m, bins\u001B[38;5;241m=\u001B[39m\u001B[38;5;241m30\u001B[39m, color\u001B[38;5;241m=\u001B[39m\u001B[38;5;124m'\u001B[39m\u001B[38;5;124mblue\u001B[39m\u001B[38;5;124m'\u001B[39m)\n\u001B[1;32m     10\u001B[0m plt\u001B[38;5;241m.\u001B[39mtitle(\u001B[38;5;124m'\u001B[39m\u001B[38;5;124mHistogram and Normal Distribution\u001B[39m\u001B[38;5;124m'\u001B[39m)\n\u001B[1;32m     11\u001B[0m plt\u001B[38;5;241m.\u001B[39mshow()\n",
      "File \u001B[0;32m~/Documents/Pelatihan 2023/workspace/myenv/lib/python3.11/site-packages/pandas/core/frame.py:3893\u001B[0m, in \u001B[0;36mDataFrame.__getitem__\u001B[0;34m(self, key)\u001B[0m\n\u001B[1;32m   3891\u001B[0m \u001B[38;5;28;01mif\u001B[39;00m \u001B[38;5;28mself\u001B[39m\u001B[38;5;241m.\u001B[39mcolumns\u001B[38;5;241m.\u001B[39mnlevels \u001B[38;5;241m>\u001B[39m \u001B[38;5;241m1\u001B[39m:\n\u001B[1;32m   3892\u001B[0m     \u001B[38;5;28;01mreturn\u001B[39;00m \u001B[38;5;28mself\u001B[39m\u001B[38;5;241m.\u001B[39m_getitem_multilevel(key)\n\u001B[0;32m-> 3893\u001B[0m indexer \u001B[38;5;241m=\u001B[39m \u001B[38;5;28;43mself\u001B[39;49m\u001B[38;5;241;43m.\u001B[39;49m\u001B[43mcolumns\u001B[49m\u001B[38;5;241;43m.\u001B[39;49m\u001B[43mget_loc\u001B[49m\u001B[43m(\u001B[49m\u001B[43mkey\u001B[49m\u001B[43m)\u001B[49m\n\u001B[1;32m   3894\u001B[0m \u001B[38;5;28;01mif\u001B[39;00m is_integer(indexer):\n\u001B[1;32m   3895\u001B[0m     indexer \u001B[38;5;241m=\u001B[39m [indexer]\n",
      "File \u001B[0;32m~/Documents/Pelatihan 2023/workspace/myenv/lib/python3.11/site-packages/pandas/core/indexes/base.py:3797\u001B[0m, in \u001B[0;36mIndex.get_loc\u001B[0;34m(self, key)\u001B[0m\n\u001B[1;32m   3792\u001B[0m     \u001B[38;5;28;01mif\u001B[39;00m \u001B[38;5;28misinstance\u001B[39m(casted_key, \u001B[38;5;28mslice\u001B[39m) \u001B[38;5;129;01mor\u001B[39;00m (\n\u001B[1;32m   3793\u001B[0m         \u001B[38;5;28misinstance\u001B[39m(casted_key, abc\u001B[38;5;241m.\u001B[39mIterable)\n\u001B[1;32m   3794\u001B[0m         \u001B[38;5;129;01mand\u001B[39;00m \u001B[38;5;28many\u001B[39m(\u001B[38;5;28misinstance\u001B[39m(x, \u001B[38;5;28mslice\u001B[39m) \u001B[38;5;28;01mfor\u001B[39;00m x \u001B[38;5;129;01min\u001B[39;00m casted_key)\n\u001B[1;32m   3795\u001B[0m     ):\n\u001B[1;32m   3796\u001B[0m         \u001B[38;5;28;01mraise\u001B[39;00m InvalidIndexError(key)\n\u001B[0;32m-> 3797\u001B[0m     \u001B[38;5;28;01mraise\u001B[39;00m \u001B[38;5;167;01mKeyError\u001B[39;00m(key) \u001B[38;5;28;01mfrom\u001B[39;00m \u001B[38;5;21;01merr\u001B[39;00m\n\u001B[1;32m   3798\u001B[0m \u001B[38;5;28;01mexcept\u001B[39;00m \u001B[38;5;167;01mTypeError\u001B[39;00m:\n\u001B[1;32m   3799\u001B[0m     \u001B[38;5;66;03m# If we have a listlike key, _check_indexing_error will raise\u001B[39;00m\n\u001B[1;32m   3800\u001B[0m     \u001B[38;5;66;03m#  InvalidIndexError. Otherwise we fall through and re-raise\u001B[39;00m\n\u001B[1;32m   3801\u001B[0m     \u001B[38;5;66;03m#  the TypeError.\u001B[39;00m\n\u001B[1;32m   3802\u001B[0m     \u001B[38;5;28mself\u001B[39m\u001B[38;5;241m.\u001B[39m_check_indexing_error(key)\n",
      "\u001B[0;31mKeyError\u001B[0m: 'pagu'"
     ]
    }
   ],
   "source": [
    "import pandas as pd\n",
    "import numpy as np\n",
    "import scipy.stats as stats\n",
    "import seaborn as sns\n",
    "import matplotlib.pyplot as plt\n",
    "\n",
    "\n",
    "\n",
    "sns.histplot(dataclean['PAGU'], kde=True, bins=30, color='blue')\n",
    "plt.title('Histogram and Normal Distribution')\n",
    "plt.show()"
   ]
  },
  {
   "cell_type": "code",
   "execution_count": null,
   "metadata": {},
   "outputs": [],
   "source": [
    "import matplotlib.pyplot as plt\n",
    "import numpy as np\n",
    "\n",
    "## Mencari outlier\n",
    "\n",
    "# Creating plot\n",
    "dataclean.boxplot(figsize=(20,25))\n",
    " \n",
    "# show plot\n",
    "plt.show()"
   ]
  },
  {
   "cell_type": "code",
   "execution_count": null,
   "metadata": {
    "collapsed": false,
    "jupyter": {
     "outputs_hidden": false
    }
   },
   "outputs": [],
   "source": [
    "import seaborn as sns\n",
    "\n",
    "dataclean[\"PAGU\"]\n"
   ]
  },
  {
   "cell_type": "code",
   "execution_count": null,
   "metadata": {
    "collapsed": false,
    "jupyter": {
     "outputs_hidden": false
    }
   },
   "outputs": [],
   "source": [
    "sns.boxplot(x=dataclean[\"PAGU\"])\n",
    "plt.show()"
   ]
  },
  {
   "cell_type": "code",
   "execution_count": null,
   "metadata": {},
   "outputs": [],
   "source": [
    "dataclean.describe()\n",
    "#dataclean[dataclean[\"PAGU\"] < 4.000000e+08].describe()"
   ]
  },
  {
   "cell_type": "code",
   "execution_count": null,
   "metadata": {
    "collapsed": false,
    "jupyter": {
     "outputs_hidden": false
    }
   },
   "outputs": [],
   "source": [
    "fig, axs = plt.subplots(ncols=7, nrows=2, figsize=(20, 10))\n",
    "index = 0\n",
    "axs = axs.flatten()\n",
    "for k,v in dataclean.items():\n",
    "    sns.boxplot(y=k, data=dataclean, ax=axs[index])\n",
    "    index += 1\n",
    "plt.tight_layout(pad=0.4, w_pad=0.5, h_pad=5.0)\n",
    "plt.show()"
   ]
  },
  {
   "cell_type": "code",
   "execution_count": null,
   "outputs": [],
   "source": [
    "sns.histplot(dataclean['PAGU'], kde=True, bins=30, color='blue')\n",
    "plt.show()\n",
    "sns.histplot(dataclean['HPS'], kde=True, bins=30, color='blue')\n",
    "plt.show()"
   ],
   "metadata": {
    "collapsed": false
   }
  },
  {
   "cell_type": "code",
   "execution_count": null,
   "outputs": [],
   "source": [
    "Q3 = 1.951869e+09\n",
    "Q1 = 4.000000e+08\n",
    "IQR = Q3 - Q1\n",
    "batas_bawah = Q1 - 1.5*IQR\n",
    "batas_atas = Q3 + 1.5*IQR\n",
    "\n",
    "dataclean[(dataclean[\"PAGU\"] > batas_atas) | (dataclean[\"PAGU\"] < batas_bawah)]\n",
    "\n",
    "# Kondisi data pagu sangat beragam, sehingga terdapat banyak oulier\n",
    "# Proses dilanjutkan walaupun terdapat outlier"
   ],
   "metadata": {
    "collapsed": false
   }
  },
  {
   "cell_type": "code",
   "execution_count": null,
   "metadata": {
    "collapsed": false,
    "jupyter": {
     "outputs_hidden": false
    }
   },
   "outputs": [],
   "source": [
    "dataclean[\"RASIO\"] = dataclean[\"NILAI_PENAWARAN\"] / dataclean[\"PAGU\"]"
   ]
  },
  {
   "cell_type": "code",
   "execution_count": null,
   "metadata": {
    "collapsed": false,
    "jupyter": {
     "outputs_hidden": false
    }
   },
   "outputs": [],
   "source": [
    "dataclean"
   ]
  },
  {
   "cell_type": "markdown",
   "metadata": {
    "collapsed": false,
    "jupyter": {
     "outputs_hidden": false
    }
   },
   "source": [
    "# Linear Regression"
   ]
  },
  {
   "cell_type": "markdown",
   "metadata": {
    "collapsed": false,
    "jupyter": {
     "outputs_hidden": false
    }
   },
   "source": [
    "Sebelum melakukan prediksi, terlebih dahulu harus ditentukan mana kolom yang menjadi feature dan target.\n",
    "\n",
    "Dalam hal ini kita akan menggunakan `qty_pembalian` sebagai target dan lainnya sebagai feature."
   ]
  },
  {
   "cell_type": "markdown",
   "metadata": {
    "id": "x93u9m8l-1H8"
   },
   "source": [
    "## Split Feature dan Target"
   ]
  },
  {
   "cell_type": "code",
   "execution_count": null,
   "metadata": {
    "id": "i0rW4u3l8tFQ"
   },
   "outputs": [],
   "source": [
    "# Hapus kolom 'qty_pembelian' dan 'Date' dari DataFrame\n",
    "X = dataclean.drop(['index', 'NILAI_NEGOSIASI', 'NILAI_PENAWARAN'], axis=1)\n"
   ]
  },
  {
   "cell_type": "code",
   "execution_count": null,
   "metadata": {
    "id": "ON88OXnugCeu"
   },
   "outputs": [],
   "source": [
    "y = dataclean[['RASIO']] # Target yang akan diprediksi"
   ]
  },
  {
   "cell_type": "code",
   "execution_count": null,
   "metadata": {
    "colab": {
     "base_uri": "https://localhost:8080/",
     "height": 206
    },
    "id": "E7uB-UOF_Hxd",
    "outputId": "d4e6d57d-340f-4d9f-8a57-863a9da820b3"
   },
   "outputs": [],
   "source": [
    "X.head()"
   ]
  },
  {
   "cell_type": "code",
   "execution_count": null,
   "metadata": {
    "colab": {
     "base_uri": "https://localhost:8080/",
     "height": 206
    },
    "id": "5OXMmUiN_MQk",
    "outputId": "b81a4c9e-e875-4048-d635-c9257574255d"
   },
   "outputs": [],
   "source": [
    "y.head()"
   ]
  },
  {
   "cell_type": "markdown",
   "metadata": {
    "id": "0kvX1e-8_S3T"
   },
   "source": [
    "## Train Test Split"
   ]
  },
  {
   "cell_type": "code",
   "execution_count": null,
   "metadata": {
    "id": "QPHvBfck_Ua0"
   },
   "outputs": [],
   "source": [
    "from sklearn.model_selection import train_test_split\n",
    "\n",
    "X_train, X_test, y_train, y_test = train_test_split(X, y, test_size=0.20, random_state=42)"
   ]
  },
  {
   "cell_type": "code",
   "execution_count": null,
   "metadata": {
    "colab": {
     "base_uri": "https://localhost:8080/"
    },
    "id": "q3jEoSRC_-v4",
    "outputId": "cc1c876d-dfbe-4678-ae09-95512f3f8455"
   },
   "outputs": [],
   "source": [
    "X_train.shape,  X_test.shape, y_train.shape, y_test.shape"
   ]
  },
  {
   "cell_type": "code",
   "execution_count": null,
   "metadata": {},
   "outputs": [],
   "source": [
    "X_test"
   ]
  },
  {
   "cell_type": "markdown",
   "metadata": {
    "id": "2Bumr8FOAmEG"
   },
   "source": [
    "## Model Training"
   ]
  },
  {
   "cell_type": "code",
   "execution_count": null,
   "metadata": {
    "colab": {
     "base_uri": "https://localhost:8080/",
     "height": 74
    },
    "id": "Vn-ET3wUAQ8D",
    "outputId": "4d2355f1-6a66-4d0b-dece-ace75b8c0a82"
   },
   "outputs": [],
   "source": [
    "from sklearn.linear_model import LinearRegression\n",
    "\n",
    "# Tentukan model yang akan digunakan\n",
    "lin_reg = LinearRegression()\n",
    "\n",
    "# Train Model\n",
    "lin_reg.fit(X_train, y_train)"
   ]
  },
  {
   "cell_type": "code",
   "execution_count": null,
   "metadata": {
    "colab": {
     "base_uri": "https://localhost:8080/",
     "height": 269
    },
    "id": "TxU5SVbwAaPx",
    "outputId": "4b1afd14-b210-44e0-a20b-223ccebf4c28"
   },
   "outputs": [],
   "source": [
    "# retrieve the coefficients\n",
    "data = X_train\n",
    "model = lin_reg\n",
    "\n",
    "coef_df = pd.DataFrame({\n",
    "    'feature':['intercept'] + data.columns.tolist(),\n",
    "    'coefficient':[model.intercept_[0]] + list(model.coef_[0])\n",
    "})\n",
    "\n",
    "coef_df"
   ]
  },
  {
   "cell_type": "code",
   "execution_count": null,
   "outputs": [],
   "source": [
    "dataclean"
   ],
   "metadata": {
    "collapsed": false
   }
  },
  {
   "cell_type": "markdown",
   "metadata": {
    "id": "rYOoA_p-hy2k"
   },
   "source": [
    "\n",
    "# Multiple Regression"
   ]
  },
  {
   "cell_type": "markdown",
   "metadata": {
    "id": "NO147XhnzGXW"
   },
   "source": [
    "## Split Feature dan Target"
   ]
  },
  {
   "cell_type": "code",
   "execution_count": 226,
   "metadata": {
    "id": "6xeYr3Pgh6bk"
   },
   "outputs": [],
   "source": [
    "# Hapus kolom 'qty_pembelian' dan 'Date' dari DataFrame\n",
    "X = dataclean.drop(['index', 'NILAI_NEGOSIASI', 'NILAI_PENAWARAN'], axis=1)\n"
   ]
  },
  {
   "cell_type": "code",
   "execution_count": 227,
   "outputs": [
    {
     "data": {
      "text/plain": "             PAGU           HPS  NILAI_TERKOREKSI  NILAI_KONTRAK  \\\n0      1147520000  1.139435e+09      1.037300e+09   1.034385e+09   \n1       297000000  2.967800e+08      2.475550e+08   2.472250e+08   \n2       297000000  2.967800e+08      2.750110e+08   2.748570e+08   \n3       176000000  1.710500e+08      1.235300e+08   1.222100e+08   \n4      5561005049  4.697102e+09      4.692706e+09   4.689403e+09   \n...           ...           ...               ...            ...   \n89940  1150000000  1.149991e+09      1.108964e+09   1.108964e+09   \n89941   380000000  3.799916e+08      3.325000e+08   3.291700e+08   \n89942   700000000  6.999880e+08      5.220834e+08   5.220834e+08   \n89943   650000000  6.499871e+08      5.199897e+08   5.199897e+08   \n89944   420000000  4.199984e+08      3.359987e+08   3.359987e+08   \n\n       KATEGORI_PENGADAAN  \n0                       1  \n1                       1  \n2                       1  \n3                       1  \n4                       4  \n...                   ...  \n89940                   5  \n89941                   5  \n89942                   5  \n89943                   5  \n89944                   5  \n\n[89940 rows x 5 columns]",
      "text/html": "<div>\n<style scoped>\n    .dataframe tbody tr th:only-of-type {\n        vertical-align: middle;\n    }\n\n    .dataframe tbody tr th {\n        vertical-align: top;\n    }\n\n    .dataframe thead th {\n        text-align: right;\n    }\n</style>\n<table border=\"1\" class=\"dataframe\">\n  <thead>\n    <tr style=\"text-align: right;\">\n      <th></th>\n      <th>PAGU</th>\n      <th>HPS</th>\n      <th>NILAI_TERKOREKSI</th>\n      <th>NILAI_KONTRAK</th>\n      <th>KATEGORI_PENGADAAN</th>\n    </tr>\n  </thead>\n  <tbody>\n    <tr>\n      <th>0</th>\n      <td>1147520000</td>\n      <td>1.139435e+09</td>\n      <td>1.037300e+09</td>\n      <td>1.034385e+09</td>\n      <td>1</td>\n    </tr>\n    <tr>\n      <th>1</th>\n      <td>297000000</td>\n      <td>2.967800e+08</td>\n      <td>2.475550e+08</td>\n      <td>2.472250e+08</td>\n      <td>1</td>\n    </tr>\n    <tr>\n      <th>2</th>\n      <td>297000000</td>\n      <td>2.967800e+08</td>\n      <td>2.750110e+08</td>\n      <td>2.748570e+08</td>\n      <td>1</td>\n    </tr>\n    <tr>\n      <th>3</th>\n      <td>176000000</td>\n      <td>1.710500e+08</td>\n      <td>1.235300e+08</td>\n      <td>1.222100e+08</td>\n      <td>1</td>\n    </tr>\n    <tr>\n      <th>4</th>\n      <td>5561005049</td>\n      <td>4.697102e+09</td>\n      <td>4.692706e+09</td>\n      <td>4.689403e+09</td>\n      <td>4</td>\n    </tr>\n    <tr>\n      <th>...</th>\n      <td>...</td>\n      <td>...</td>\n      <td>...</td>\n      <td>...</td>\n      <td>...</td>\n    </tr>\n    <tr>\n      <th>89940</th>\n      <td>1150000000</td>\n      <td>1.149991e+09</td>\n      <td>1.108964e+09</td>\n      <td>1.108964e+09</td>\n      <td>5</td>\n    </tr>\n    <tr>\n      <th>89941</th>\n      <td>380000000</td>\n      <td>3.799916e+08</td>\n      <td>3.325000e+08</td>\n      <td>3.291700e+08</td>\n      <td>5</td>\n    </tr>\n    <tr>\n      <th>89942</th>\n      <td>700000000</td>\n      <td>6.999880e+08</td>\n      <td>5.220834e+08</td>\n      <td>5.220834e+08</td>\n      <td>5</td>\n    </tr>\n    <tr>\n      <th>89943</th>\n      <td>650000000</td>\n      <td>6.499871e+08</td>\n      <td>5.199897e+08</td>\n      <td>5.199897e+08</td>\n      <td>5</td>\n    </tr>\n    <tr>\n      <th>89944</th>\n      <td>420000000</td>\n      <td>4.199984e+08</td>\n      <td>3.359987e+08</td>\n      <td>3.359987e+08</td>\n      <td>5</td>\n    </tr>\n  </tbody>\n</table>\n<p>89940 rows × 5 columns</p>\n</div>"
     },
     "execution_count": 227,
     "metadata": {},
     "output_type": "execute_result"
    }
   ],
   "source": [
    "X"
   ],
   "metadata": {
    "collapsed": false
   }
  },
  {
   "cell_type": "code",
   "execution_count": 228,
   "metadata": {
    "id": "TMJDWP38h9A0"
   },
   "outputs": [
    {
     "ename": "KeyError",
     "evalue": "\"None of [Index(['RASIO'], dtype='object')] are in the [columns]\"",
     "output_type": "error",
     "traceback": [
      "\u001B[0;31m---------------------------------------------------------------------------\u001B[0m",
      "\u001B[0;31mKeyError\u001B[0m                                  Traceback (most recent call last)",
      "Cell \u001B[0;32mIn[228], line 1\u001B[0m\n\u001B[0;32m----> 1\u001B[0m y \u001B[38;5;241m=\u001B[39m \u001B[43mdataclean\u001B[49m\u001B[43m[\u001B[49m\u001B[43m[\u001B[49m\u001B[38;5;124;43m'\u001B[39;49m\u001B[38;5;124;43mRASIO\u001B[39;49m\u001B[38;5;124;43m'\u001B[39;49m\u001B[43m]\u001B[49m\u001B[43m]\u001B[49m \u001B[38;5;66;03m# Target yang akan diprediksi\u001B[39;00m\n",
      "File \u001B[0;32m~/Documents/Pelatihan 2023/workspace/myenv/lib/python3.11/site-packages/pandas/core/frame.py:3899\u001B[0m, in \u001B[0;36mDataFrame.__getitem__\u001B[0;34m(self, key)\u001B[0m\n\u001B[1;32m   3897\u001B[0m     \u001B[38;5;28;01mif\u001B[39;00m is_iterator(key):\n\u001B[1;32m   3898\u001B[0m         key \u001B[38;5;241m=\u001B[39m \u001B[38;5;28mlist\u001B[39m(key)\n\u001B[0;32m-> 3899\u001B[0m     indexer \u001B[38;5;241m=\u001B[39m \u001B[38;5;28;43mself\u001B[39;49m\u001B[38;5;241;43m.\u001B[39;49m\u001B[43mcolumns\u001B[49m\u001B[38;5;241;43m.\u001B[39;49m\u001B[43m_get_indexer_strict\u001B[49m\u001B[43m(\u001B[49m\u001B[43mkey\u001B[49m\u001B[43m,\u001B[49m\u001B[43m \u001B[49m\u001B[38;5;124;43m\"\u001B[39;49m\u001B[38;5;124;43mcolumns\u001B[39;49m\u001B[38;5;124;43m\"\u001B[39;49m\u001B[43m)\u001B[49m[\u001B[38;5;241m1\u001B[39m]\n\u001B[1;32m   3901\u001B[0m \u001B[38;5;66;03m# take() does not accept boolean indexers\u001B[39;00m\n\u001B[1;32m   3902\u001B[0m \u001B[38;5;28;01mif\u001B[39;00m \u001B[38;5;28mgetattr\u001B[39m(indexer, \u001B[38;5;124m\"\u001B[39m\u001B[38;5;124mdtype\u001B[39m\u001B[38;5;124m\"\u001B[39m, \u001B[38;5;28;01mNone\u001B[39;00m) \u001B[38;5;241m==\u001B[39m \u001B[38;5;28mbool\u001B[39m:\n",
      "File \u001B[0;32m~/Documents/Pelatihan 2023/workspace/myenv/lib/python3.11/site-packages/pandas/core/indexes/base.py:6114\u001B[0m, in \u001B[0;36mIndex._get_indexer_strict\u001B[0;34m(self, key, axis_name)\u001B[0m\n\u001B[1;32m   6111\u001B[0m \u001B[38;5;28;01melse\u001B[39;00m:\n\u001B[1;32m   6112\u001B[0m     keyarr, indexer, new_indexer \u001B[38;5;241m=\u001B[39m \u001B[38;5;28mself\u001B[39m\u001B[38;5;241m.\u001B[39m_reindex_non_unique(keyarr)\n\u001B[0;32m-> 6114\u001B[0m \u001B[38;5;28;43mself\u001B[39;49m\u001B[38;5;241;43m.\u001B[39;49m\u001B[43m_raise_if_missing\u001B[49m\u001B[43m(\u001B[49m\u001B[43mkeyarr\u001B[49m\u001B[43m,\u001B[49m\u001B[43m \u001B[49m\u001B[43mindexer\u001B[49m\u001B[43m,\u001B[49m\u001B[43m \u001B[49m\u001B[43maxis_name\u001B[49m\u001B[43m)\u001B[49m\n\u001B[1;32m   6116\u001B[0m keyarr \u001B[38;5;241m=\u001B[39m \u001B[38;5;28mself\u001B[39m\u001B[38;5;241m.\u001B[39mtake(indexer)\n\u001B[1;32m   6117\u001B[0m \u001B[38;5;28;01mif\u001B[39;00m \u001B[38;5;28misinstance\u001B[39m(key, Index):\n\u001B[1;32m   6118\u001B[0m     \u001B[38;5;66;03m# GH 42790 - Preserve name from an Index\u001B[39;00m\n",
      "File \u001B[0;32m~/Documents/Pelatihan 2023/workspace/myenv/lib/python3.11/site-packages/pandas/core/indexes/base.py:6175\u001B[0m, in \u001B[0;36mIndex._raise_if_missing\u001B[0;34m(self, key, indexer, axis_name)\u001B[0m\n\u001B[1;32m   6173\u001B[0m     \u001B[38;5;28;01mif\u001B[39;00m use_interval_msg:\n\u001B[1;32m   6174\u001B[0m         key \u001B[38;5;241m=\u001B[39m \u001B[38;5;28mlist\u001B[39m(key)\n\u001B[0;32m-> 6175\u001B[0m     \u001B[38;5;28;01mraise\u001B[39;00m \u001B[38;5;167;01mKeyError\u001B[39;00m(\u001B[38;5;124mf\u001B[39m\u001B[38;5;124m\"\u001B[39m\u001B[38;5;124mNone of [\u001B[39m\u001B[38;5;132;01m{\u001B[39;00mkey\u001B[38;5;132;01m}\u001B[39;00m\u001B[38;5;124m] are in the [\u001B[39m\u001B[38;5;132;01m{\u001B[39;00maxis_name\u001B[38;5;132;01m}\u001B[39;00m\u001B[38;5;124m]\u001B[39m\u001B[38;5;124m\"\u001B[39m)\n\u001B[1;32m   6177\u001B[0m not_found \u001B[38;5;241m=\u001B[39m \u001B[38;5;28mlist\u001B[39m(ensure_index(key)[missing_mask\u001B[38;5;241m.\u001B[39mnonzero()[\u001B[38;5;241m0\u001B[39m]]\u001B[38;5;241m.\u001B[39munique())\n\u001B[1;32m   6178\u001B[0m \u001B[38;5;28;01mraise\u001B[39;00m \u001B[38;5;167;01mKeyError\u001B[39;00m(\u001B[38;5;124mf\u001B[39m\u001B[38;5;124m\"\u001B[39m\u001B[38;5;132;01m{\u001B[39;00mnot_found\u001B[38;5;132;01m}\u001B[39;00m\u001B[38;5;124m not in index\u001B[39m\u001B[38;5;124m\"\u001B[39m)\n",
      "\u001B[0;31mKeyError\u001B[0m: \"None of [Index(['RASIO'], dtype='object')] are in the [columns]\""
     ]
    }
   ],
   "source": [
    "y = dataclean[['RASIO']] # Target yang akan diprediksi"
   ]
  },
  {
   "cell_type": "markdown",
   "metadata": {
    "id": "RspWKVflzGXe"
   },
   "source": [
    "## Train Test Split"
   ]
  },
  {
   "cell_type": "code",
   "execution_count": 229,
   "metadata": {
    "id": "jC5U0JrpzGXe"
   },
   "outputs": [],
   "source": [
    "from sklearn.model_selection import train_test_split\n",
    "\n",
    "X_train, X_test, y_train, y_test = train_test_split(X, y, test_size=0.20, random_state=42)"
   ]
  },
  {
   "cell_type": "code",
   "execution_count": 230,
   "metadata": {
    "colab": {
     "base_uri": "https://localhost:8080/"
    },
    "id": "g8PBZr6ZzGXe",
    "outputId": "0883616d-6aad-450e-be0b-4cd902071976"
   },
   "outputs": [
    {
     "data": {
      "text/plain": "((71952, 5), (17988, 5), (71952, 1), (17988, 1))"
     },
     "execution_count": 230,
     "metadata": {},
     "output_type": "execute_result"
    }
   ],
   "source": [
    "X_train.shape,  X_test.shape, y_train.shape, y_test.shape"
   ]
  },
  {
   "cell_type": "code",
   "execution_count": 231,
   "outputs": [
    {
     "data": {
      "text/plain": "             PAGU           HPS  NILAI_TERKOREKSI  NILAI_KONTRAK  \\\n83901   235000000  2.350000e+08      2.330440e+08   2.330440e+08   \n19977   798786826  7.979050e+08      7.817150e+08   7.817150e+08   \n68405  1765650858  1.765650e+09      1.741213e+09   1.741213e+09   \n87539  2264170000  2.264086e+09      2.227076e+09   2.227075e+09   \n76102  1994599035  1.993887e+09      1.773359e+09   1.773359e+09   \n...           ...           ...               ...            ...   \n6265   4181111255  4.179992e+09      3.888800e+09   3.888800e+09   \n54891  3694219000  3.662611e+09      3.324883e+09   3.324883e+09   \n76825  7184332000  6.975079e+09      6.968800e+09   6.968800e+09   \n860     317221000  3.150966e+08      2.611500e+08   0.000000e+00   \n15800   500000000  4.970117e+08      4.124094e+08   0.000000e+00   \n\n       KATEGORI_PENGADAAN  \n83901                   5  \n19977                   6  \n68405                   5  \n87539                   5  \n76102                   5  \n...                   ...  \n6265                    5  \n54891                   5  \n76825                   5  \n860                     6  \n15800                   2  \n\n[71952 rows x 5 columns]",
      "text/html": "<div>\n<style scoped>\n    .dataframe tbody tr th:only-of-type {\n        vertical-align: middle;\n    }\n\n    .dataframe tbody tr th {\n        vertical-align: top;\n    }\n\n    .dataframe thead th {\n        text-align: right;\n    }\n</style>\n<table border=\"1\" class=\"dataframe\">\n  <thead>\n    <tr style=\"text-align: right;\">\n      <th></th>\n      <th>PAGU</th>\n      <th>HPS</th>\n      <th>NILAI_TERKOREKSI</th>\n      <th>NILAI_KONTRAK</th>\n      <th>KATEGORI_PENGADAAN</th>\n    </tr>\n  </thead>\n  <tbody>\n    <tr>\n      <th>83901</th>\n      <td>235000000</td>\n      <td>2.350000e+08</td>\n      <td>2.330440e+08</td>\n      <td>2.330440e+08</td>\n      <td>5</td>\n    </tr>\n    <tr>\n      <th>19977</th>\n      <td>798786826</td>\n      <td>7.979050e+08</td>\n      <td>7.817150e+08</td>\n      <td>7.817150e+08</td>\n      <td>6</td>\n    </tr>\n    <tr>\n      <th>68405</th>\n      <td>1765650858</td>\n      <td>1.765650e+09</td>\n      <td>1.741213e+09</td>\n      <td>1.741213e+09</td>\n      <td>5</td>\n    </tr>\n    <tr>\n      <th>87539</th>\n      <td>2264170000</td>\n      <td>2.264086e+09</td>\n      <td>2.227076e+09</td>\n      <td>2.227075e+09</td>\n      <td>5</td>\n    </tr>\n    <tr>\n      <th>76102</th>\n      <td>1994599035</td>\n      <td>1.993887e+09</td>\n      <td>1.773359e+09</td>\n      <td>1.773359e+09</td>\n      <td>5</td>\n    </tr>\n    <tr>\n      <th>...</th>\n      <td>...</td>\n      <td>...</td>\n      <td>...</td>\n      <td>...</td>\n      <td>...</td>\n    </tr>\n    <tr>\n      <th>6265</th>\n      <td>4181111255</td>\n      <td>4.179992e+09</td>\n      <td>3.888800e+09</td>\n      <td>3.888800e+09</td>\n      <td>5</td>\n    </tr>\n    <tr>\n      <th>54891</th>\n      <td>3694219000</td>\n      <td>3.662611e+09</td>\n      <td>3.324883e+09</td>\n      <td>3.324883e+09</td>\n      <td>5</td>\n    </tr>\n    <tr>\n      <th>76825</th>\n      <td>7184332000</td>\n      <td>6.975079e+09</td>\n      <td>6.968800e+09</td>\n      <td>6.968800e+09</td>\n      <td>5</td>\n    </tr>\n    <tr>\n      <th>860</th>\n      <td>317221000</td>\n      <td>3.150966e+08</td>\n      <td>2.611500e+08</td>\n      <td>0.000000e+00</td>\n      <td>6</td>\n    </tr>\n    <tr>\n      <th>15800</th>\n      <td>500000000</td>\n      <td>4.970117e+08</td>\n      <td>4.124094e+08</td>\n      <td>0.000000e+00</td>\n      <td>2</td>\n    </tr>\n  </tbody>\n</table>\n<p>71952 rows × 5 columns</p>\n</div>"
     },
     "execution_count": 231,
     "metadata": {},
     "output_type": "execute_result"
    }
   ],
   "source": [
    "X_train"
   ],
   "metadata": {
    "collapsed": false
   }
  },
  {
   "cell_type": "markdown",
   "metadata": {
    "id": "Lyg9CA9kzLpx"
   },
   "source": [
    "## Multicollinearity Check"
   ]
  },
  {
   "cell_type": "code",
   "execution_count": 232,
   "metadata": {
    "colab": {
     "base_uri": "https://localhost:8080/",
     "height": 724
    },
    "id": "c5xEVFvXzlan",
    "outputId": "01af8a5b-1bcd-4657-d0f5-8494e6513b10"
   },
   "outputs": [
    {
     "data": {
      "text/plain": "<Figure size 1000x700 with 2 Axes>",
      "image/png": "[encoded data removed]"
     },
     "metadata": {},
     "output_type": "display_data"
    }
   ],
   "source": [
    "import matplotlib.pyplot as plt\n",
    "import seaborn as sns\n",
    "\n",
    "# heatmap correlation\n",
    "data_train = pd.concat([X_train, y_train], axis=1)\n",
    "corr = data_train.corr()\n",
    "\n",
    "plt.figure(figsize=(10,7))\n",
    "sns.heatmap(corr, annot=True, fmt='.2f')\n",
    "plt.show()"
   ]
  },
  {
   "cell_type": "code",
   "execution_count": 233,
   "metadata": {
    "collapsed": false,
    "jupyter": {
     "outputs_hidden": false
    }
   },
   "outputs": [
    {
     "name": "stderr",
     "output_type": "stream",
     "text": [
      "/Users/kiruanouyuan/Documents/Pelatihan 2023/workspace/myenv/lib/python3.11/site-packages/statsmodels/regression/linear_model.py:1781: RuntimeWarning: divide by zero encountered in scalar divide\n",
      "  return 1 - self.ssr/self.centered_tss\n"
     ]
    },
    {
     "data": {
      "text/plain": "              feature  vif_score\n1                PAGU   2.716257\n2                 HPS  11.880154\n3    NILAI_TERKOREKSI  10.762968\n4       NILAI_KONTRAK   1.255948\n5  KATEGORI_PENGADAAN   1.001170",
      "text/html": "<div>\n<style scoped>\n    .dataframe tbody tr th:only-of-type {\n        vertical-align: middle;\n    }\n\n    .dataframe tbody tr th {\n        vertical-align: top;\n    }\n\n    .dataframe thead th {\n        text-align: right;\n    }\n</style>\n<table border=\"1\" class=\"dataframe\">\n  <thead>\n    <tr style=\"text-align: right;\">\n      <th></th>\n      <th>feature</th>\n      <th>vif_score</th>\n    </tr>\n  </thead>\n  <tbody>\n    <tr>\n      <th>1</th>\n      <td>PAGU</td>\n      <td>2.716257</td>\n    </tr>\n    <tr>\n      <th>2</th>\n      <td>HPS</td>\n      <td>11.880154</td>\n    </tr>\n    <tr>\n      <th>3</th>\n      <td>NILAI_TERKOREKSI</td>\n      <td>10.762968</td>\n    </tr>\n    <tr>\n      <th>4</th>\n      <td>NILAI_KONTRAK</td>\n      <td>1.255948</td>\n    </tr>\n    <tr>\n      <th>5</th>\n      <td>KATEGORI_PENGADAAN</td>\n      <td>1.001170</td>\n    </tr>\n  </tbody>\n</table>\n</div>"
     },
     "execution_count": 233,
     "metadata": {},
     "output_type": "execute_result"
    }
   ],
   "source": [
    "# calculate VIF scores for each feature\n",
    "from statsmodels.stats.outliers_influence import variance_inflation_factor as vif\n",
    "from statsmodels.tools.tools import add_constant\n",
    "\n",
    "X_vif = add_constant(X_train)\n",
    "\n",
    "vif_df = pd.DataFrame([vif(X_vif.values, i)\n",
    "               for i in range(X_vif.shape[1])],\n",
    "              index=X_vif.columns).reset_index()\n",
    "vif_df.columns = ['feature','vif_score']\n",
    "vif_df = vif_df.loc[vif_df.feature!='const']\n",
    "vif_df"
   ]
  },
  {
   "cell_type": "code",
   "execution_count": 234,
   "metadata": {
    "colab": {
     "base_uri": "https://localhost:8080/",
     "height": 424
    },
    "id": "6iyI7sdVigUF",
    "outputId": "0b22dffd-0372-4f5a-deb2-868ca0463f71"
   },
   "outputs": [
    {
     "data": {
      "text/plain": "             PAGU           HPS  NILAI_TERKOREKSI  NILAI_KONTRAK  \\\n83901   235000000  2.350000e+08      2.330440e+08   2.330440e+08   \n19977   798786826  7.979050e+08      7.817150e+08   7.817150e+08   \n68405  1765650858  1.765650e+09      1.741213e+09   1.741213e+09   \n87539  2264170000  2.264086e+09      2.227076e+09   2.227075e+09   \n76102  1994599035  1.993887e+09      1.773359e+09   1.773359e+09   \n...           ...           ...               ...            ...   \n6265   4181111255  4.179992e+09      3.888800e+09   3.888800e+09   \n54891  3694219000  3.662611e+09      3.324883e+09   3.324883e+09   \n76825  7184332000  6.975079e+09      6.968800e+09   6.968800e+09   \n860     317221000  3.150966e+08      2.611500e+08   0.000000e+00   \n15800   500000000  4.970117e+08      4.124094e+08   0.000000e+00   \n\n       KATEGORI_PENGADAAN  \n83901                   5  \n19977                   6  \n68405                   5  \n87539                   5  \n76102                   5  \n...                   ...  \n6265                    5  \n54891                   5  \n76825                   5  \n860                     6  \n15800                   2  \n\n[71952 rows x 5 columns]",
      "text/html": "<div>\n<style scoped>\n    .dataframe tbody tr th:only-of-type {\n        vertical-align: middle;\n    }\n\n    .dataframe tbody tr th {\n        vertical-align: top;\n    }\n\n    .dataframe thead th {\n        text-align: right;\n    }\n</style>\n<table border=\"1\" class=\"dataframe\">\n  <thead>\n    <tr style=\"text-align: right;\">\n      <th></th>\n      <th>PAGU</th>\n      <th>HPS</th>\n      <th>NILAI_TERKOREKSI</th>\n      <th>NILAI_KONTRAK</th>\n      <th>KATEGORI_PENGADAAN</th>\n    </tr>\n  </thead>\n  <tbody>\n    <tr>\n      <th>83901</th>\n      <td>235000000</td>\n      <td>2.350000e+08</td>\n      <td>2.330440e+08</td>\n      <td>2.330440e+08</td>\n      <td>5</td>\n    </tr>\n    <tr>\n      <th>19977</th>\n      <td>798786826</td>\n      <td>7.979050e+08</td>\n      <td>7.817150e+08</td>\n      <td>7.817150e+08</td>\n      <td>6</td>\n    </tr>\n    <tr>\n      <th>68405</th>\n      <td>1765650858</td>\n      <td>1.765650e+09</td>\n      <td>1.741213e+09</td>\n      <td>1.741213e+09</td>\n      <td>5</td>\n    </tr>\n    <tr>\n      <th>87539</th>\n      <td>2264170000</td>\n      <td>2.264086e+09</td>\n      <td>2.227076e+09</td>\n      <td>2.227075e+09</td>\n      <td>5</td>\n    </tr>\n    <tr>\n      <th>76102</th>\n      <td>1994599035</td>\n      <td>1.993887e+09</td>\n      <td>1.773359e+09</td>\n      <td>1.773359e+09</td>\n      <td>5</td>\n    </tr>\n    <tr>\n      <th>...</th>\n      <td>...</td>\n      <td>...</td>\n      <td>...</td>\n      <td>...</td>\n      <td>...</td>\n    </tr>\n    <tr>\n      <th>6265</th>\n      <td>4181111255</td>\n      <td>4.179992e+09</td>\n      <td>3.888800e+09</td>\n      <td>3.888800e+09</td>\n      <td>5</td>\n    </tr>\n    <tr>\n      <th>54891</th>\n      <td>3694219000</td>\n      <td>3.662611e+09</td>\n      <td>3.324883e+09</td>\n      <td>3.324883e+09</td>\n      <td>5</td>\n    </tr>\n    <tr>\n      <th>76825</th>\n      <td>7184332000</td>\n      <td>6.975079e+09</td>\n      <td>6.968800e+09</td>\n      <td>6.968800e+09</td>\n      <td>5</td>\n    </tr>\n    <tr>\n      <th>860</th>\n      <td>317221000</td>\n      <td>3.150966e+08</td>\n      <td>2.611500e+08</td>\n      <td>0.000000e+00</td>\n      <td>6</td>\n    </tr>\n    <tr>\n      <th>15800</th>\n      <td>500000000</td>\n      <td>4.970117e+08</td>\n      <td>4.124094e+08</td>\n      <td>0.000000e+00</td>\n      <td>2</td>\n    </tr>\n  </tbody>\n</table>\n<p>71952 rows × 5 columns</p>\n</div>"
     },
     "execution_count": 234,
     "metadata": {},
     "output_type": "execute_result"
    }
   ],
   "source": [
    "X_train"
   ]
  },
  {
   "cell_type": "code",
   "execution_count": null,
   "metadata": {},
   "outputs": [],
   "source": [
    "\n",
    "\n",
    "# heatmap correlation\n",
    "data_train = pd.concat([X_train, y_train], axis=1)\n",
    "corr = data_train.corr()\n",
    "\n",
    "plt.figure(figsize=(10,7))\n",
    "sns.heatmap(corr, annot=True, fmt='.2f')\n",
    "plt.show()"
   ]
  },
  {
   "cell_type": "code",
   "execution_count": null,
   "metadata": {},
   "outputs": [],
   "source": [
    "# calculate VIF scores for each feature\n",
    "\n",
    "X_vif = add_constant(X_train)\n",
    "\n",
    "vif_df = pd.DataFrame([vif(X_vif.values, i)\n",
    "               for i in range(X_vif.shape[1])],\n",
    "              index=X_vif.columns).reset_index()\n",
    "vif_df.columns = ['feature','vif_score']\n",
    "vif_df = vif_df.loc[vif_df.feature!='const']\n",
    "vif_df"
   ]
  },
  {
   "cell_type": "markdown",
   "metadata": {
    "id": "EoGmo4Me1Cdt"
   },
   "source": [
    "Tidak ada vif score yang tinggi"
   ]
  },
  {
   "cell_type": "markdown",
   "metadata": {
    "id": "NQcv-QyJzGXe"
   },
   "source": [
    "## Model Training"
   ]
  },
  {
   "cell_type": "code",
   "execution_count": null,
   "metadata": {
    "colab": {
     "base_uri": "https://localhost:8080/",
     "height": 74
    },
    "id": "Xu4fz437zGXe",
    "outputId": "e9de6a4b-6366-4122-fb84-0cd50de12ade"
   },
   "outputs": [],
   "source": [
    "from sklearn.linear_model import LinearRegression\n",
    "\n",
    "# Tentukan model yang akan digunakan\n",
    "multi_reg = LinearRegression()\n",
    "\n",
    "# Train Model\n",
    "multi_reg.fit(X_train, y_train)"
   ]
  },
  {
   "cell_type": "markdown",
   "metadata": {
    "id": "kL-p_jzcDtvz"
   },
   "source": [
    "## Model Evaluation"
   ]
  },
  {
   "cell_type": "markdown",
   "metadata": {
    "id": "Wy-0EBFrHXGt"
   },
   "source": [
    "### Training Error"
   ]
  },
  {
   "cell_type": "markdown",
   "metadata": {
    "id": "pkTVaNOzIIFU"
   },
   "source": [
    "Prediksi data train menggunakan model yang sudah dilatih"
   ]
  },
  {
   "cell_type": "code",
   "execution_count": null,
   "metadata": {
    "id": "whgHR-eKHgLG"
   },
   "outputs": [],
   "source": [
    "y_predict_train = multi_reg.predict(X_train)"
   ]
  },
  {
   "cell_type": "code",
   "execution_count": null,
   "metadata": {
    "colab": {
     "base_uri": "https://localhost:8080/"
    },
    "id": "zEussaNXDvaP",
    "outputId": "a01d5bd5-67a3-4408-e808-5a15c2f69419"
   },
   "outputs": [],
   "source": [
    "from sklearn.metrics import r2_score\n",
    "from sklearn.metrics import mean_squared_error\n",
    "\n",
    "print('RMSE for training data is {}'.format(np.sqrt(mean_squared_error(y_predict_train, y_train))))"
   ]
  },
  {
   "cell_type": "markdown",
   "metadata": {
    "id": "4yPOmSPfHZI4"
   },
   "source": [
    "### Testing Error"
   ]
  },
  {
   "cell_type": "markdown",
   "metadata": {
    "id": "zmhsWdCJIND7"
   },
   "source": [
    "Prediksi data test menggunakan model yang sudah dilatih"
   ]
  },
  {
   "cell_type": "code",
   "execution_count": null,
   "metadata": {
    "id": "HvVUqGAQHVfU"
   },
   "outputs": [],
   "source": [
    "y_predict_test = multi_reg.predict(X_test)"
   ]
  },
  {
   "cell_type": "code",
   "execution_count": 236,
   "metadata": {
    "colab": {
     "base_uri": "https://localhost:8080/"
    },
    "id": "z6yb9oJdHtl4",
    "outputId": "48103821-86cd-4f2f-8beb-0d3abbd35f67"
   },
   "outputs": [
    {
     "name": "stdout",
     "output_type": "stream",
     "text": [
      "RMSE for testing data is 1.7361480434757793e-15\n"
     ]
    }
   ],
   "source": [
    "from sklearn.metrics import mean_squared_error\n",
    "\n",
    "print('RMSE for testing data is {}'.format(np.sqrt(mean_squared_error(y_predict_test, y_test))))"
   ]
  },
  {
   "cell_type": "code",
   "execution_count": null,
   "metadata": {
    "id": "LnoJew4npk1q"
   },
   "outputs": [],
   "source": [
    "import numpy as np\n",
    "\n",
    "# Anggaplah X_test dan y_predict_test adalah array NumPy\n",
    "X_test_with_predictions = np.column_stack((X_test, y_predict_test))\n"
   ]
  },
  {
   "cell_type": "code",
   "execution_count": null,
   "metadata": {
    "id": "r8WMH8copnEJ"
   },
   "outputs": [],
   "source": [
    "import pandas as pd\n",
    "\n",
    "# Anggaplah X_test dan y_predict_test adalah array NumPy\n",
    "# atau dataframe pandas, tergantung pada format data yang Anda miliki\n",
    "X_test_with_predictions = pd.DataFrame(data=np.column_stack((X_test, y_predict_test)),\n",
    "                                       columns=list(X_test.columns) + ['PREDIKSI'])\n"
   ]
  },
  {
   "cell_type": "code",
   "execution_count": null,
   "metadata": {},
   "outputs": [],
   "source": [
    "X_test_with_predictions "
   ]
  },
  {
   "cell_type": "code",
   "execution_count": null,
   "metadata": {},
   "outputs": [],
   "source": [
    "\n",
    "# Membulatkan nilai kolom \"Predicted\" ke bilangan bulat\n",
    "X_test_with_predictions['PREDIKSI'] = X_test_with_predictions['PREDIKSI']\n",
    "\n",
    "# Tampilkan DataFrame setelah membulatkan nilai\n",
    "X_test_with_predictions\n"
   ]
  },
  {
   "cell_type": "code",
   "execution_count": null,
   "metadata": {
    "colab": {
     "base_uri": "https://localhost:8080/",
     "height": 424
    },
    "id": "Lp-oVJq_rp4B",
    "outputId": "6efb35a8-4fa8-4a0a-ef63-321bff9e1f36"
   },
   "outputs": [],
   "source": [
    "y_test"
   ]
  },
  {
   "cell_type": "code",
   "execution_count": null,
   "metadata": {},
   "outputs": [],
   "source": []
  },
  {
   "cell_type": "code",
   "execution_count": null,
   "metadata": {
    "id": "yG7IQY9Hqsrw"
   },
   "outputs": [],
   "source": [
    "\n",
    "# Anggaplah X_test dan y_predict_test adalah array NumPy\n",
    "# atau dataframe pandas, tergantung pada format data yang Anda miliki\n",
    "X_akhir = pd.DataFrame(data=np.column_stack((X_test_with_predictions, y_test)),\n",
    "                                       columns=list(X_test_with_predictions.columns) + ['AKTUAL'])\n"
   ]
  },
  {
   "cell_type": "code",
   "execution_count": null,
   "metadata": {
    "colab": {
     "base_uri": "https://localhost:8080/",
     "height": 424
    },
    "id": "i8npnRZdsA5b",
    "outputId": "bfdd1693-8e48-4c80-960f-279515701c29"
   },
   "outputs": [],
   "source": [
    "X_akhir"
   ]
  },
  {
   "cell_type": "code",
   "execution_count": null,
   "metadata": {
    "colab": {
     "base_uri": "https://localhost:8080/",
     "height": 472
    },
    "id": "I52GDnIdshA6",
    "outputId": "8a3d303d-5ada-498d-f330-997c04077aa5"
   },
   "outputs": [],
   "source": [
    "import matplotlib.pyplot as plt\n",
    "\n",
    "# Dataframe\n",
    "\n",
    "# Scatter plot\n",
    "plt.scatter(X_test_with_predictions['PREDIKSI'], X_test_with_predictions['RASIO'])\n",
    "plt.title('Scatter Plot Predicted vs Aktual')\n",
    "plt.xlabel('Predicted')\n",
    "plt.ylabel('Aktual')\n",
    "plt.show()\n"
   ]
  },
  {
   "cell_type": "code",
   "execution_count": null,
   "metadata": {
    "colab": {
     "base_uri": "https://localhost:8080/",
     "height": 472
    },
    "id": "Yx87euWCssNn",
    "outputId": "b635ffe9-c687-489f-8931-caa0732e1a62"
   },
   "outputs": [],
   "source": [
    "import matplotlib.pyplot as plt\n",
    "\n",
    "\n",
    "# Line chart\n",
    "plt.plot(X_akhir['PREDIKSI'], label='PREDIKSI', marker='o')\n",
    "plt.plot(X_akhir['AKTUAL'], label='AKTUAL', marker='o')\n",
    "plt.title('Line Chart Predicted vs Aktual')\n",
    "plt.xlabel('Observation')\n",
    "plt.ylabel('Value')\n",
    "plt.legend()\n",
    "plt.show()\n"
   ]
  },
  {
   "cell_type": "code",
   "execution_count": null,
   "metadata": {},
   "outputs": [],
   "source": [
    "X_akhir"
   ]
  },
  {
   "cell_type": "code",
   "execution_count": null,
   "metadata": {},
   "outputs": [],
   "source": [
    "dataclean"
   ]
  },
  {
   "cell_type": "code",
   "execution_count": null,
   "metadata": {},
   "outputs": [],
   "source": [
    "# Ambil nilai unik dari kolom Harga_x dan Harga_y\n",
    "unik_harga_x = dataclean['HARGA_x'].unique()\n",
    "unik_harga_y = dataclean['HARGA_y'].unique()\n",
    "\n",
    "# Tampilkan hasil\n",
    "print(\"Nilai unik Harga_x:\", unik_harga_x)\n",
    "print(\"Nilai unik Harga_y:\", unik_harga_y)"
   ]
  },
  {
   "cell_type": "code",
   "execution_count": null,
   "metadata": {},
   "outputs": [],
   "source": [
    "# Buat DataFrame baru untuk menyimpan hasil unik\n",
    "df_unik = pd.DataFrame({\n",
    "    'Harga_x_unik': unik_harga_x,\n",
    "    'Harga_y_unik': unik_harga_y\n",
    "})\n",
    "\n",
    "# Tampilkan hasil\n",
    "print(df_unik)"
   ]
  },
  {
   "cell_type": "code",
   "execution_count": null,
   "metadata": {},
   "outputs": [],
   "source": [
    "# Urutkan DataFrame berdasarkan Harga_x_unik\n",
    "df_unik_sorted = df_unik.sort_values(by='Harga_x_unik')\n",
    "\n",
    "# Tampilkan hasil\n",
    "print(df_unik_sorted)"
   ]
  },
  {
   "cell_type": "code",
   "execution_count": null,
   "metadata": {},
   "outputs": [],
   "source": [
    "X_akhir"
   ]
  },
  {
   "cell_type": "code",
   "execution_count": null,
   "metadata": {},
   "outputs": [],
   "source": [
    "X_train"
   ]
  },
  {
   "cell_type": "markdown",
   "metadata": {},
   "source": [
    "Jika Anda ingin mengubah data yang diberikan menjadi format yang dapat digunakan untuk prediksi, langkah-langkahnya akan melibatkan beberapa tahapan seperti encoding data kategorikal dan menyesuaikan struktur data. Berikut adalah contoh langkah-langkahnya:\n",
    "\n",
    "1. Encoding Data Kategorikal:\n",
    "        Lakukan encoding pada kolom-kolom yang bersifat kategorikal seperti 'JENIS_BARANG' dan 'FEATURE_TAMBAHAN'.\n",
    "\n",
    "2. Menghilangkan Kolom yang Tidak Diperlukan:\n",
    "        Hilangkan kolom-kolom yang tidak diperlukan untuk prediksi.\n",
    "\n",
    "3. Membuat Struktur DataFrame yang Sesuai:\n",
    "        Struktur DataFrame yang dihasilkan harus sesuai dengan struktur data yang digunakan saat melatih model."
   ]
  },
  {
   "cell_type": "code",
   "execution_count": null,
   "metadata": {},
   "outputs": [],
   "source": [
    "from sklearn.preprocessing import LabelEncoder\n",
    "\n",
    "# Data baru yang belum diencode\n",
    "\n",
    "data_baru = pd.DataFrame({\n",
    "    'SKOR': [1.000, 1.000, 1.000],\n",
    "    'ID_DETAIL': [905030584, 905030584, 905030584],\n",
    "    'JUMLAH': [66, 61, 66],\n",
    "    'FEATURE_TAMBAHAN': ['warranty', 'moneyback', 'moneyback'],\n",
    "    'JENIS_BARANG': ['Mitsubishi Pajero Sport 2.4 Dakar 4x2 Solar-AT...', 'Mitsubishi Pajero Sport 2.4 Dakar 4x2 Solar-AT...', 'Mitsubishi Pajero Sport 2.4 Dakar 4x2 Solar-AT...'],\n",
    "    'ID_DETAIL_BARANG': [5001329.0, 5001329.0, 5001329.0],\n",
    "    'TAHUN_PRODUK_RELEASE': [2016, 2016, 2023]\n",
    "})\n",
    "# Lakukan Label Encoding untuk kolom-kolom kategorikal\n",
    "label_encoder = LabelEncoder()\n",
    "\n",
    "for column in [ 'SKOR','ID_DETAIL','JUMLAH','FEATURE_TAMBAHAN','JENIS_BARANG','ID_DETAIL_BARANG','TAHUN_PRODUK_RELEASE']:\n",
    "    data_baru[column] = label_encoder.fit_transform(data_baru[column])\n",
    "\n",
    "# Gunakan model untuk memprediksi harga\n",
    "y_pred = multi_reg.predict(data_baru)\n"
   ]
  },
  {
   "cell_type": "code",
   "execution_count": null,
   "metadata": {},
   "outputs": [],
   "source": [
    "data_baru"
   ]
  },
  {
   "cell_type": "code",
   "execution_count": null,
   "metadata": {},
   "outputs": [],
   "source": [
    "y_pred"
   ]
  }
 ],
 "metadata": {
  "colab": {
   "provenance": []
  },
  "kernelspec": {
   "display_name": "Python 3 (ipykernel)",
   "language": "python",
   "name": "python3"
  },
  "language_info": {
   "codemirror_mode": {
    "name": "ipython",
    "version": 3
   },
   "file_extension": ".py",
   "mimetype": "text/x-python",
   "name": "python",
   "nbconvert_exporter": "python",
   "pygments_lexer": "ipython3",
   "version": "3.11.3"
  }
 },
 "nbformat": 4,
 "nbformat_minor": 4
}
