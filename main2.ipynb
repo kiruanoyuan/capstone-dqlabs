{
 "cells": [
  {
   "cell_type": "markdown",
   "metadata": {
    "id": "C45aCy6VV0ti"
   },
   "source": [
    "# Import Libraries"
   ]
  },
  {
   "cell_type": "code",
   "execution_count": 1,
   "metadata": {
    "id": "gUXwihdMV23m"
   },
   "outputs": [],
   "source": [
    "import streamlit as st\n",
    "from pathlib import Path\n",
    "import base64\n",
    "import pandas as pd\n",
    "import numpy as np\n",
    "import matplotlib.pyplot as plt\n",
    "import seaborn as sns\n",
    "from sklearn.preprocessing import LabelEncoder\n",
    "from sklearn.model_selection import train_test_split\n",
    "from sklearn.linear_model import LinearRegression\n",
    "from sklearn.model_selection import train_test_split\n",
    "from statsmodels.stats.outliers_influence import variance_inflation_factor as vif\n",
    "from statsmodels.tools.tools import add_constant\n",
    "from sklearn.metrics import mean_squared_error\n",
    "\n",
    "#test by alex"
   ]
  },
  {
   "cell_type": "code",
   "execution_count": 2,
   "metadata": {
    "id": "TiOAYFnPWC9M"
   },
   "outputs": [],
   "source": [
    "# Import Dataset\n",
    "df = pd.read_excel('data_excel.xlsx')"
   ]
  },
  {
   "cell_type": "code",
   "execution_count": 3,
   "metadata": {
    "colab": {
     "base_uri": "https://localhost:8080/",
     "height": 206
    },
    "id": "6Ysw7bQ_x-_4",
    "outputId": "582d4a1b-4999-42fd-dc75-9756f485c3f2"
   },
   "outputs": [
    {
     "data": {
      "text/plain": "   kd_lpse           nama_lpse  kd_tender  \\\n0       10  LPSE Kota Surabaya   10682010   \n1       10  LPSE Kota Surabaya   10683010   \n2       10  LPSE Kota Surabaya   10684010   \n3       10  LPSE Kota Surabaya   10685010   \n4       10  LPSE Kota Surabaya   10690010   \n\n                                          nama_paket        pagu  \\\n0  Biaya Manajemen Konstruksi (Tidak Sederhana), ...  1147520000   \n1  Biaya Pengawasan Fisik (Tidak Sederhana), Nila...   297000000   \n2  Biaya Pengawasan Fisik (Tidak Sederhana), Nila...   297000000   \n3  Biaya Pengawasan Fisik (Tidak Sederhana), Nila...   176000000   \n4    Pekerjaan Pengangkutan Sampah Surabaya Timur II  5561005049   \n\n            hps   ang     kualifikasi_paket  \\\n0  1.139435e+09  APBD              Menengah   \n1  2.967800e+08  APBD      Perusahaan Kecil   \n2  2.967800e+08  APBD      Perusahaan Kecil   \n3  1.710500e+08  APBD      Perusahaan Kecil   \n4  4.697102e+09  APBD  Perusahaan Non Kecil   \n\n                        kategori_pengadaan mtd_pemilihan        mtd_evaluasi  \\\n0  Jasa Konsultansi Badan Usaha Konstruksi       Seleksi  Kualitas dan Biaya   \n1  Jasa Konsultansi Badan Usaha Konstruksi       Seleksi  Kualitas dan Biaya   \n2  Jasa Konsultansi Badan Usaha Konstruksi       Seleksi  Kualitas dan Biaya   \n3  Jasa Konsultansi Badan Usaha Konstruksi       Seleksi  Kualitas dan Biaya   \n4                             Jasa Lainnya        Tender        Sistem Gugur   \n\n               mtd_kualifikasi kontrak_pembayaran  nilai_penawaran  \\\n0  Pra Dua File Kualitas Biaya    Waktu Penugasan     1.037300e+09   \n1  Pra Dua File Kualitas Biaya    Waktu Penugasan     2.475550e+08   \n2  Pra Dua File Kualitas Biaya    Waktu Penugasan     2.750110e+08   \n3  Pra Dua File Kualitas Biaya    Waktu Penugasan     1.235300e+08   \n4              Pasca Satu File       Harga Satuan     4.692706e+09   \n\n   nilai_terkoreksi  nilai_negosiasi  nilai_reverse_auction  nilai_kontrak  \n0      1.037300e+09     1.034385e+09                    0.0   1.034385e+09  \n1      2.475550e+08     2.472250e+08                    0.0   2.472250e+08  \n2      2.750110e+08     2.748570e+08                    0.0   2.748570e+08  \n3      1.235300e+08     1.222100e+08                    0.0   1.222100e+08  \n4      4.692706e+09     4.689403e+09                    0.0   4.689403e+09  ",
      "text/html": "<div>\n<style scoped>\n    .dataframe tbody tr th:only-of-type {\n        vertical-align: middle;\n    }\n\n    .dataframe tbody tr th {\n        vertical-align: top;\n    }\n\n    .dataframe thead th {\n        text-align: right;\n    }\n</style>\n<table border=\"1\" class=\"dataframe\">\n  <thead>\n    <tr style=\"text-align: right;\">\n      <th></th>\n      <th>kd_lpse</th>\n      <th>nama_lpse</th>\n      <th>kd_tender</th>\n      <th>nama_paket</th>\n      <th>pagu</th>\n      <th>hps</th>\n      <th>ang</th>\n      <th>kualifikasi_paket</th>\n      <th>kategori_pengadaan</th>\n      <th>mtd_pemilihan</th>\n      <th>mtd_evaluasi</th>\n      <th>mtd_kualifikasi</th>\n      <th>kontrak_pembayaran</th>\n      <th>nilai_penawaran</th>\n      <th>nilai_terkoreksi</th>\n      <th>nilai_negosiasi</th>\n      <th>nilai_reverse_auction</th>\n      <th>nilai_kontrak</th>\n    </tr>\n  </thead>\n  <tbody>\n    <tr>\n      <th>0</th>\n      <td>10</td>\n      <td>LPSE Kota Surabaya</td>\n      <td>10682010</td>\n      <td>Biaya Manajemen Konstruksi (Tidak Sederhana), ...</td>\n      <td>1147520000</td>\n      <td>1.139435e+09</td>\n      <td>APBD</td>\n      <td>Menengah</td>\n      <td>Jasa Konsultansi Badan Usaha Konstruksi</td>\n      <td>Seleksi</td>\n      <td>Kualitas dan Biaya</td>\n      <td>Pra Dua File Kualitas Biaya</td>\n      <td>Waktu Penugasan</td>\n      <td>1.037300e+09</td>\n      <td>1.037300e+09</td>\n      <td>1.034385e+09</td>\n      <td>0.0</td>\n      <td>1.034385e+09</td>\n    </tr>\n    <tr>\n      <th>1</th>\n      <td>10</td>\n      <td>LPSE Kota Surabaya</td>\n      <td>10683010</td>\n      <td>Biaya Pengawasan Fisik (Tidak Sederhana), Nila...</td>\n      <td>297000000</td>\n      <td>2.967800e+08</td>\n      <td>APBD</td>\n      <td>Perusahaan Kecil</td>\n      <td>Jasa Konsultansi Badan Usaha Konstruksi</td>\n      <td>Seleksi</td>\n      <td>Kualitas dan Biaya</td>\n      <td>Pra Dua File Kualitas Biaya</td>\n      <td>Waktu Penugasan</td>\n      <td>2.475550e+08</td>\n      <td>2.475550e+08</td>\n      <td>2.472250e+08</td>\n      <td>0.0</td>\n      <td>2.472250e+08</td>\n    </tr>\n    <tr>\n      <th>2</th>\n      <td>10</td>\n      <td>LPSE Kota Surabaya</td>\n      <td>10684010</td>\n      <td>Biaya Pengawasan Fisik (Tidak Sederhana), Nila...</td>\n      <td>297000000</td>\n      <td>2.967800e+08</td>\n      <td>APBD</td>\n      <td>Perusahaan Kecil</td>\n      <td>Jasa Konsultansi Badan Usaha Konstruksi</td>\n      <td>Seleksi</td>\n      <td>Kualitas dan Biaya</td>\n      <td>Pra Dua File Kualitas Biaya</td>\n      <td>Waktu Penugasan</td>\n      <td>2.750110e+08</td>\n      <td>2.750110e+08</td>\n      <td>2.748570e+08</td>\n      <td>0.0</td>\n      <td>2.748570e+08</td>\n    </tr>\n    <tr>\n      <th>3</th>\n      <td>10</td>\n      <td>LPSE Kota Surabaya</td>\n      <td>10685010</td>\n      <td>Biaya Pengawasan Fisik (Tidak Sederhana), Nila...</td>\n      <td>176000000</td>\n      <td>1.710500e+08</td>\n      <td>APBD</td>\n      <td>Perusahaan Kecil</td>\n      <td>Jasa Konsultansi Badan Usaha Konstruksi</td>\n      <td>Seleksi</td>\n      <td>Kualitas dan Biaya</td>\n      <td>Pra Dua File Kualitas Biaya</td>\n      <td>Waktu Penugasan</td>\n      <td>1.235300e+08</td>\n      <td>1.235300e+08</td>\n      <td>1.222100e+08</td>\n      <td>0.0</td>\n      <td>1.222100e+08</td>\n    </tr>\n    <tr>\n      <th>4</th>\n      <td>10</td>\n      <td>LPSE Kota Surabaya</td>\n      <td>10690010</td>\n      <td>Pekerjaan Pengangkutan Sampah Surabaya Timur II</td>\n      <td>5561005049</td>\n      <td>4.697102e+09</td>\n      <td>APBD</td>\n      <td>Perusahaan Non Kecil</td>\n      <td>Jasa Lainnya</td>\n      <td>Tender</td>\n      <td>Sistem Gugur</td>\n      <td>Pasca Satu File</td>\n      <td>Harga Satuan</td>\n      <td>4.692706e+09</td>\n      <td>4.692706e+09</td>\n      <td>4.689403e+09</td>\n      <td>0.0</td>\n      <td>4.689403e+09</td>\n    </tr>\n  </tbody>\n</table>\n</div>"
     },
     "execution_count": 3,
     "metadata": {},
     "output_type": "execute_result"
    }
   ],
   "source": [
    "# check 5 data teratas\n",
    "df.head()"
   ]
  },
  {
   "cell_type": "code",
   "execution_count": 4,
   "metadata": {},
   "outputs": [
    {
     "data": {
      "text/plain": "kd_lpse                     0\nnama_lpse                   0\nkd_tender                   0\nnama_paket                  0\npagu                        0\nhps                         0\nang                         0\nkualifikasi_paket        3705\nkategori_pengadaan          0\nmtd_pemilihan               0\nmtd_evaluasi                0\nmtd_kualifikasi             0\nkontrak_pembayaran          0\nnilai_penawaran          1029\nnilai_terkoreksi         1029\nnilai_negosiasi          1029\nnilai_reverse_auction    1029\nnilai_kontrak            1029\ndtype: int64"
     },
     "execution_count": 4,
     "metadata": {},
     "output_type": "execute_result"
    }
   ],
   "source": [
    "df.isnull().sum()"
   ]
  },
  {
   "cell_type": "code",
   "execution_count": 5,
   "metadata": {},
   "outputs": [
    {
     "data": {
      "text/plain": "0                    Menengah\n1            Perusahaan Kecil\n2            Perusahaan Kecil\n3            Perusahaan Kecil\n4        Perusahaan Non Kecil\n                 ...         \n91454        Perusahaan Kecil\n91455        Perusahaan Kecil\n91456        Perusahaan Kecil\n91457        Perusahaan Kecil\n91458        Perusahaan Kecil\nName: kualifikasi_paket, Length: 91459, dtype: object"
     },
     "execution_count": 5,
     "metadata": {},
     "output_type": "execute_result"
    }
   ],
   "source": [
    "df['kualifikasi_paket']\n",
    "# df['nilai_terkoreksi']\n",
    "# df['nilai_penawaran']\n",
    "# df['nilai_negosiasi']\n",
    "# df['nilai_reverse_auction']\n",
    "# df['nilai_kontrak']"
   ]
  },
  {
   "cell_type": "code",
   "execution_count": 34,
   "metadata": {},
   "outputs": [],
   "source": [
    "# Mengambil kolom yang diinginkan dari DataFrame\n",
    "kolom_yang_diinginkan = [\"pagu\", \"hps\", \"kategori_pengadaan\", \"nilai_penawaran\", \"nilai_terkoreksi\", \"nilai_negosiasi\", \"nilai_kontrak\"]\n",
    "df = df[kolom_yang_diinginkan]"
   ]
  },
  {
   "cell_type": "code",
   "execution_count": 35,
   "metadata": {},
   "outputs": [
    {
     "data": {
      "text/html": [
       "<div>\n",
       "<style scoped>\n",
       "    .dataframe tbody tr th:only-of-type {\n",
       "        vertical-align: middle;\n",
       "    }\n",
       "\n",
       "    .dataframe tbody tr th {\n",
       "        vertical-align: top;\n",
       "    }\n",
       "\n",
       "    .dataframe thead th {\n",
       "        text-align: right;\n",
       "    }\n",
       "</style>\n",
       "<table border=\"1\" class=\"dataframe\">\n",
       "  <thead>\n",
       "    <tr style=\"text-align: right;\">\n",
       "      <th></th>\n",
       "      <th>pagu</th>\n",
       "      <th>hps</th>\n",
       "      <th>kategori_pengadaan</th>\n",
       "      <th>nilai_penawaran</th>\n",
       "      <th>nilai_terkoreksi</th>\n",
       "      <th>nilai_negosiasi</th>\n",
       "      <th>nilai_kontrak</th>\n",
       "    </tr>\n",
       "  </thead>\n",
       "  <tbody>\n",
       "    <tr>\n",
       "      <th>0</th>\n",
       "      <td>1147520000</td>\n",
       "      <td>1.139435e+09</td>\n",
       "      <td>Jasa Konsultansi Badan Usaha Konstruksi</td>\n",
       "      <td>1.037300e+09</td>\n",
       "      <td>1.037300e+09</td>\n",
       "      <td>1.034385e+09</td>\n",
       "      <td>1.034385e+09</td>\n",
       "    </tr>\n",
       "    <tr>\n",
       "      <th>1</th>\n",
       "      <td>297000000</td>\n",
       "      <td>2.967800e+08</td>\n",
       "      <td>Jasa Konsultansi Badan Usaha Konstruksi</td>\n",
       "      <td>2.475550e+08</td>\n",
       "      <td>2.475550e+08</td>\n",
       "      <td>2.472250e+08</td>\n",
       "      <td>2.472250e+08</td>\n",
       "    </tr>\n",
       "    <tr>\n",
       "      <th>2</th>\n",
       "      <td>297000000</td>\n",
       "      <td>2.967800e+08</td>\n",
       "      <td>Jasa Konsultansi Badan Usaha Konstruksi</td>\n",
       "      <td>2.750110e+08</td>\n",
       "      <td>2.750110e+08</td>\n",
       "      <td>2.748570e+08</td>\n",
       "      <td>2.748570e+08</td>\n",
       "    </tr>\n",
       "    <tr>\n",
       "      <th>3</th>\n",
       "      <td>176000000</td>\n",
       "      <td>1.710500e+08</td>\n",
       "      <td>Jasa Konsultansi Badan Usaha Konstruksi</td>\n",
       "      <td>1.235300e+08</td>\n",
       "      <td>1.235300e+08</td>\n",
       "      <td>1.222100e+08</td>\n",
       "      <td>1.222100e+08</td>\n",
       "    </tr>\n",
       "    <tr>\n",
       "      <th>4</th>\n",
       "      <td>5561005049</td>\n",
       "      <td>4.697102e+09</td>\n",
       "      <td>Jasa Lainnya</td>\n",
       "      <td>4.692706e+09</td>\n",
       "      <td>4.692706e+09</td>\n",
       "      <td>4.689403e+09</td>\n",
       "      <td>4.689403e+09</td>\n",
       "    </tr>\n",
       "    <tr>\n",
       "      <th>...</th>\n",
       "      <td>...</td>\n",
       "      <td>...</td>\n",
       "      <td>...</td>\n",
       "      <td>...</td>\n",
       "      <td>...</td>\n",
       "      <td>...</td>\n",
       "      <td>...</td>\n",
       "    </tr>\n",
       "    <tr>\n",
       "      <th>91454</th>\n",
       "      <td>1150000000</td>\n",
       "      <td>1.149991e+09</td>\n",
       "      <td>Pekerjaan Konstruksi</td>\n",
       "      <td>1.108964e+09</td>\n",
       "      <td>1.108964e+09</td>\n",
       "      <td>0.000000e+00</td>\n",
       "      <td>1.108964e+09</td>\n",
       "    </tr>\n",
       "    <tr>\n",
       "      <th>91455</th>\n",
       "      <td>380000000</td>\n",
       "      <td>3.799916e+08</td>\n",
       "      <td>Pekerjaan Konstruksi</td>\n",
       "      <td>3.325000e+08</td>\n",
       "      <td>3.325000e+08</td>\n",
       "      <td>3.291700e+08</td>\n",
       "      <td>3.291700e+08</td>\n",
       "    </tr>\n",
       "    <tr>\n",
       "      <th>91456</th>\n",
       "      <td>700000000</td>\n",
       "      <td>6.999880e+08</td>\n",
       "      <td>Pekerjaan Konstruksi</td>\n",
       "      <td>5.220834e+08</td>\n",
       "      <td>5.220834e+08</td>\n",
       "      <td>0.000000e+00</td>\n",
       "      <td>5.220834e+08</td>\n",
       "    </tr>\n",
       "    <tr>\n",
       "      <th>91457</th>\n",
       "      <td>650000000</td>\n",
       "      <td>6.499871e+08</td>\n",
       "      <td>Pekerjaan Konstruksi</td>\n",
       "      <td>5.199897e+08</td>\n",
       "      <td>5.199897e+08</td>\n",
       "      <td>0.000000e+00</td>\n",
       "      <td>5.199897e+08</td>\n",
       "    </tr>\n",
       "    <tr>\n",
       "      <th>91458</th>\n",
       "      <td>420000000</td>\n",
       "      <td>4.199984e+08</td>\n",
       "      <td>Pekerjaan Konstruksi</td>\n",
       "      <td>3.359987e+08</td>\n",
       "      <td>3.359987e+08</td>\n",
       "      <td>0.000000e+00</td>\n",
       "      <td>3.359987e+08</td>\n",
       "    </tr>\n",
       "  </tbody>\n",
       "</table>\n",
       "<p>91459 rows × 7 columns</p>\n",
       "</div>"
      ],
      "text/plain": [
       "             pagu           hps                       kategori_pengadaan  \\\n",
       "0      1147520000  1.139435e+09  Jasa Konsultansi Badan Usaha Konstruksi   \n",
       "1       297000000  2.967800e+08  Jasa Konsultansi Badan Usaha Konstruksi   \n",
       "2       297000000  2.967800e+08  Jasa Konsultansi Badan Usaha Konstruksi   \n",
       "3       176000000  1.710500e+08  Jasa Konsultansi Badan Usaha Konstruksi   \n",
       "4      5561005049  4.697102e+09                             Jasa Lainnya   \n",
       "...           ...           ...                                      ...   \n",
       "91454  1150000000  1.149991e+09                     Pekerjaan Konstruksi   \n",
       "91455   380000000  3.799916e+08                     Pekerjaan Konstruksi   \n",
       "91456   700000000  6.999880e+08                     Pekerjaan Konstruksi   \n",
       "91457   650000000  6.499871e+08                     Pekerjaan Konstruksi   \n",
       "91458   420000000  4.199984e+08                     Pekerjaan Konstruksi   \n",
       "\n",
       "       nilai_penawaran  nilai_terkoreksi  nilai_negosiasi  nilai_kontrak  \n",
       "0         1.037300e+09      1.037300e+09     1.034385e+09   1.034385e+09  \n",
       "1         2.475550e+08      2.475550e+08     2.472250e+08   2.472250e+08  \n",
       "2         2.750110e+08      2.750110e+08     2.748570e+08   2.748570e+08  \n",
       "3         1.235300e+08      1.235300e+08     1.222100e+08   1.222100e+08  \n",
       "4         4.692706e+09      4.692706e+09     4.689403e+09   4.689403e+09  \n",
       "...                ...               ...              ...            ...  \n",
       "91454     1.108964e+09      1.108964e+09     0.000000e+00   1.108964e+09  \n",
       "91455     3.325000e+08      3.325000e+08     3.291700e+08   3.291700e+08  \n",
       "91456     5.220834e+08      5.220834e+08     0.000000e+00   5.220834e+08  \n",
       "91457     5.199897e+08      5.199897e+08     0.000000e+00   5.199897e+08  \n",
       "91458     3.359987e+08      3.359987e+08     0.000000e+00   3.359987e+08  \n",
       "\n",
       "[91459 rows x 7 columns]"
      ]
     },
     "execution_count": 35,
     "metadata": {},
     "output_type": "execute_result"
    }
   ],
   "source": [
    "df"
   ]
  },
  {
   "cell_type": "code",
   "execution_count": 37,
   "metadata": {},
   "outputs": [
    {
     "name": "stdout",
     "output_type": "stream",
     "text": [
      "<class 'pandas.core.frame.DataFrame'>\n",
      "RangeIndex: 91459 entries, 0 to 91458\n",
      "Data columns (total 7 columns):\n",
      " #   Column              Non-Null Count  Dtype  \n",
      "---  ------              --------------  -----  \n",
      " 0   pagu                91459 non-null  int64  \n",
      " 1   hps                 91459 non-null  float64\n",
      " 2   kategori_pengadaan  91459 non-null  object \n",
      " 3   nilai_penawaran     90430 non-null  float64\n",
      " 4   nilai_terkoreksi    90430 non-null  float64\n",
      " 5   nilai_negosiasi     90430 non-null  float64\n",
      " 6   nilai_kontrak       90430 non-null  float64\n",
      "dtypes: float64(5), int64(1), object(1)\n",
      "memory usage: 4.9+ MB\n"
     ]
    }
   ],
   "source": [
    "df.info()"
   ]
  },
  {
   "cell_type": "code",
   "execution_count": 6,
   "metadata": {},
   "outputs": [
    {
     "data": {
      "text/plain": "kd_lpse                     0\nnama_lpse                   0\nkd_tender                   0\nnama_paket                  0\npagu                        0\nhps                         0\nang                         0\nkualifikasi_paket        3705\nkategori_pengadaan          0\nmtd_pemilihan               0\nmtd_evaluasi                0\nmtd_kualifikasi             0\nkontrak_pembayaran          0\nnilai_penawaran          1029\nnilai_terkoreksi         1029\nnilai_negosiasi          1029\nnilai_reverse_auction    1029\nnilai_kontrak            1029\ndtype: int64"
     },
     "execution_count": 6,
     "metadata": {},
     "output_type": "execute_result"
    }
   ],
   "source": [
    "df.isnull().sum()"
   ]
  },
  {
   "cell_type": "code",
   "execution_count": 7,
   "metadata": {},
   "outputs": [
    {
     "name": "stdout",
     "output_type": "stream",
     "text": [
      "number of rows before deletion: 91459\n",
      "number of rows after deletion: 86818\n"
     ]
    }
   ],
   "source": [
    "#deletion on rows with missing value\n",
    "print(\"number of rows before deletion:\", len(df))\n",
    "print(\"number of rows after deletion:\", len(df.dropna()))\n",
    "dataclean = df.dropna()"
   ]
  },
  {
   "cell_type": "code",
   "execution_count": 8,
   "metadata": {},
   "outputs": [
    {
     "name": "stdout",
     "output_type": "stream",
     "text": [
      "                   Column  Percentage_Null\n",
      "0                 kd_lpse              0.0\n",
      "1               nama_lpse              0.0\n",
      "16  nilai_reverse_auction              0.0\n",
      "15        nilai_negosiasi              0.0\n",
      "14       nilai_terkoreksi              0.0\n",
      "13        nilai_penawaran              0.0\n",
      "12     kontrak_pembayaran              0.0\n",
      "11        mtd_kualifikasi              0.0\n",
      "10           mtd_evaluasi              0.0\n",
      "9           mtd_pemilihan              0.0\n",
      "8      kategori_pengadaan              0.0\n",
      "7       kualifikasi_paket              0.0\n",
      "6                     ang              0.0\n",
      "5                     hps              0.0\n",
      "4                    pagu              0.0\n",
      "3              nama_paket              0.0\n",
      "2               kd_tender              0.0\n",
      "17          nilai_kontrak              0.0\n"
     ]
    }
   ],
   "source": [
    "# Calculate the percentage of null values for each column\n",
    "percentage_null = (dataclean.isnull().sum() / len(dataclean)) * 100\n",
    "\n",
    "# Create a DataFrame to display the percentage of null values and sort it\n",
    "null_summary = pd.DataFrame({\n",
    "    'Column': percentage_null.index,\n",
    "    'Percentage_Null': percentage_null.values\n",
    "})\n",
    "\n",
    "\n",
    "# Sort the DataFrame by the Percentage_Null column in descending order\n",
    "null_summary = null_summary.sort_values(by='Percentage_Null', ascending=False)\n",
    "\n",
    "# Display the sorted DataFrame\n",
    "print(null_summary)"
   ]
  },
  {
   "cell_type": "code",
   "execution_count": 9,
   "metadata": {},
   "outputs": [],
   "source": [
    "dataclean = dataclean.drop_duplicates()"
   ]
  },
  {
   "cell_type": "code",
   "execution_count": 10,
   "metadata": {},
   "outputs": [],
   "source": [
    "dataclean = dataclean.dropna()"
   ]
  },
  {
   "cell_type": "code",
   "execution_count": 11,
   "metadata": {},
   "outputs": [
    {
     "data": {
      "text/plain": "       kd_lpse           nama_lpse  kd_tender  \\\n0           10  LPSE Kota Surabaya   10682010   \n1           10  LPSE Kota Surabaya   10683010   \n2           10  LPSE Kota Surabaya   10684010   \n3           10  LPSE Kota Surabaya   10685010   \n4           10  LPSE Kota Surabaya   10690010   \n...        ...                 ...        ...   \n91454      802       SPSE Nasional   87875802   \n91455      802       SPSE Nasional  878786802   \n91456      802       SPSE Nasional  878787802   \n91457      802       SPSE Nasional  878788802   \n91458      802       SPSE Nasional  878789802   \n\n                                              nama_paket        pagu  \\\n0      Biaya Manajemen Konstruksi (Tidak Sederhana), ...  1147520000   \n1      Biaya Pengawasan Fisik (Tidak Sederhana), Nila...   297000000   \n2      Biaya Pengawasan Fisik (Tidak Sederhana), Nila...   297000000   \n3      Biaya Pengawasan Fisik (Tidak Sederhana), Nila...   176000000   \n4        Pekerjaan Pengangkutan Sampah Surabaya Timur II  5561005049   \n...                                                  ...         ...   \n91454  Pemeliharaan Berkala / Peningkatan Jalan Kampu...  1150000000   \n91455  Rehabilitasi Box Culvert Way Kali Toman Kampun...   380000000   \n91456  Pemeliharaan Berkala/Rehabilitasi Ruas Jalan P...   700000000   \n91457  Pemeliharaan Berkala/Peningkatan Jalan Penghub...   650000000   \n91458  Pembangunan Pagar Keliling dan Drainase Di Sek...   420000000   \n\n                hps   ang     kualifikasi_paket  \\\n0      1.139435e+09  APBD              Menengah   \n1      2.967800e+08  APBD      Perusahaan Kecil   \n2      2.967800e+08  APBD      Perusahaan Kecil   \n3      1.710500e+08  APBD      Perusahaan Kecil   \n4      4.697102e+09  APBD  Perusahaan Non Kecil   \n...             ...   ...                   ...   \n91454  1.149991e+09  APBD      Perusahaan Kecil   \n91455  3.799916e+08  APBD      Perusahaan Kecil   \n91456  6.999880e+08  APBD      Perusahaan Kecil   \n91457  6.499871e+08  APBD      Perusahaan Kecil   \n91458  4.199984e+08  APBD      Perusahaan Kecil   \n\n                            kategori_pengadaan mtd_pemilihan  \\\n0      Jasa Konsultansi Badan Usaha Konstruksi       Seleksi   \n1      Jasa Konsultansi Badan Usaha Konstruksi       Seleksi   \n2      Jasa Konsultansi Badan Usaha Konstruksi       Seleksi   \n3      Jasa Konsultansi Badan Usaha Konstruksi       Seleksi   \n4                                 Jasa Lainnya        Tender   \n...                                        ...           ...   \n91454                     Pekerjaan Konstruksi        Tender   \n91455                     Pekerjaan Konstruksi        Tender   \n91456                     Pekerjaan Konstruksi        Tender   \n91457                     Pekerjaan Konstruksi        Tender   \n91458                     Pekerjaan Konstruksi        Tender   \n\n             mtd_evaluasi              mtd_kualifikasi  \\\n0      Kualitas dan Biaya  Pra Dua File Kualitas Biaya   \n1      Kualitas dan Biaya  Pra Dua File Kualitas Biaya   \n2      Kualitas dan Biaya  Pra Dua File Kualitas Biaya   \n3      Kualitas dan Biaya  Pra Dua File Kualitas Biaya   \n4            Sistem Gugur              Pasca Satu File   \n...                   ...                          ...   \n91454        Sistem Gugur              Pasca Satu File   \n91455        Sistem Gugur              Pasca Satu File   \n91456        Sistem Gugur              Pasca Satu File   \n91457        Sistem Gugur              Pasca Satu File   \n91458        Sistem Gugur              Pasca Satu File   \n\n                     kontrak_pembayaran  nilai_penawaran  nilai_terkoreksi  \\\n0                       Waktu Penugasan     1.037300e+09      1.037300e+09   \n1                       Waktu Penugasan     2.475550e+08      2.475550e+08   \n2                       Waktu Penugasan     2.750110e+08      2.750110e+08   \n3                       Waktu Penugasan     1.235300e+08      1.235300e+08   \n4                          Harga Satuan     4.692706e+09      4.692706e+09   \n...                                 ...              ...               ...   \n91454  Gabungan Lumsum dan Harga Satuan     1.108964e+09      1.108964e+09   \n91455  Gabungan Lumsum dan Harga Satuan     3.325000e+08      3.325000e+08   \n91456  Gabungan Lumsum dan Harga Satuan     5.220834e+08      5.220834e+08   \n91457  Gabungan Lumsum dan Harga Satuan     5.199897e+08      5.199897e+08   \n91458  Gabungan Lumsum dan Harga Satuan     3.359987e+08      3.359987e+08   \n\n       nilai_negosiasi  nilai_reverse_auction  nilai_kontrak  \n0         1.034385e+09                    0.0   1.034385e+09  \n1         2.472250e+08                    0.0   2.472250e+08  \n2         2.748570e+08                    0.0   2.748570e+08  \n3         1.222100e+08                    0.0   1.222100e+08  \n4         4.689403e+09                    0.0   4.689403e+09  \n...                ...                    ...            ...  \n91454     0.000000e+00                    0.0   1.108964e+09  \n91455     3.291700e+08                    0.0   3.291700e+08  \n91456     0.000000e+00                    0.0   5.220834e+08  \n91457     0.000000e+00                    0.0   5.199897e+08  \n91458     0.000000e+00                    0.0   3.359987e+08  \n\n[86818 rows x 18 columns]",
      "text/html": "<div>\n<style scoped>\n    .dataframe tbody tr th:only-of-type {\n        vertical-align: middle;\n    }\n\n    .dataframe tbody tr th {\n        vertical-align: top;\n    }\n\n    .dataframe thead th {\n        text-align: right;\n    }\n</style>\n<table border=\"1\" class=\"dataframe\">\n  <thead>\n    <tr style=\"text-align: right;\">\n      <th></th>\n      <th>kd_lpse</th>\n      <th>nama_lpse</th>\n      <th>kd_tender</th>\n      <th>nama_paket</th>\n      <th>pagu</th>\n      <th>hps</th>\n      <th>ang</th>\n      <th>kualifikasi_paket</th>\n      <th>kategori_pengadaan</th>\n      <th>mtd_pemilihan</th>\n      <th>mtd_evaluasi</th>\n      <th>mtd_kualifikasi</th>\n      <th>kontrak_pembayaran</th>\n      <th>nilai_penawaran</th>\n      <th>nilai_terkoreksi</th>\n      <th>nilai_negosiasi</th>\n      <th>nilai_reverse_auction</th>\n      <th>nilai_kontrak</th>\n    </tr>\n  </thead>\n  <tbody>\n    <tr>\n      <th>0</th>\n      <td>10</td>\n      <td>LPSE Kota Surabaya</td>\n      <td>10682010</td>\n      <td>Biaya Manajemen Konstruksi (Tidak Sederhana), ...</td>\n      <td>1147520000</td>\n      <td>1.139435e+09</td>\n      <td>APBD</td>\n      <td>Menengah</td>\n      <td>Jasa Konsultansi Badan Usaha Konstruksi</td>\n      <td>Seleksi</td>\n      <td>Kualitas dan Biaya</td>\n      <td>Pra Dua File Kualitas Biaya</td>\n      <td>Waktu Penugasan</td>\n      <td>1.037300e+09</td>\n      <td>1.037300e+09</td>\n      <td>1.034385e+09</td>\n      <td>0.0</td>\n      <td>1.034385e+09</td>\n    </tr>\n    <tr>\n      <th>1</th>\n      <td>10</td>\n      <td>LPSE Kota Surabaya</td>\n      <td>10683010</td>\n      <td>Biaya Pengawasan Fisik (Tidak Sederhana), Nila...</td>\n      <td>297000000</td>\n      <td>2.967800e+08</td>\n      <td>APBD</td>\n      <td>Perusahaan Kecil</td>\n      <td>Jasa Konsultansi Badan Usaha Konstruksi</td>\n      <td>Seleksi</td>\n      <td>Kualitas dan Biaya</td>\n      <td>Pra Dua File Kualitas Biaya</td>\n      <td>Waktu Penugasan</td>\n      <td>2.475550e+08</td>\n      <td>2.475550e+08</td>\n      <td>2.472250e+08</td>\n      <td>0.0</td>\n      <td>2.472250e+08</td>\n    </tr>\n    <tr>\n      <th>2</th>\n      <td>10</td>\n      <td>LPSE Kota Surabaya</td>\n      <td>10684010</td>\n      <td>Biaya Pengawasan Fisik (Tidak Sederhana), Nila...</td>\n      <td>297000000</td>\n      <td>2.967800e+08</td>\n      <td>APBD</td>\n      <td>Perusahaan Kecil</td>\n      <td>Jasa Konsultansi Badan Usaha Konstruksi</td>\n      <td>Seleksi</td>\n      <td>Kualitas dan Biaya</td>\n      <td>Pra Dua File Kualitas Biaya</td>\n      <td>Waktu Penugasan</td>\n      <td>2.750110e+08</td>\n      <td>2.750110e+08</td>\n      <td>2.748570e+08</td>\n      <td>0.0</td>\n      <td>2.748570e+08</td>\n    </tr>\n    <tr>\n      <th>3</th>\n      <td>10</td>\n      <td>LPSE Kota Surabaya</td>\n      <td>10685010</td>\n      <td>Biaya Pengawasan Fisik (Tidak Sederhana), Nila...</td>\n      <td>176000000</td>\n      <td>1.710500e+08</td>\n      <td>APBD</td>\n      <td>Perusahaan Kecil</td>\n      <td>Jasa Konsultansi Badan Usaha Konstruksi</td>\n      <td>Seleksi</td>\n      <td>Kualitas dan Biaya</td>\n      <td>Pra Dua File Kualitas Biaya</td>\n      <td>Waktu Penugasan</td>\n      <td>1.235300e+08</td>\n      <td>1.235300e+08</td>\n      <td>1.222100e+08</td>\n      <td>0.0</td>\n      <td>1.222100e+08</td>\n    </tr>\n    <tr>\n      <th>4</th>\n      <td>10</td>\n      <td>LPSE Kota Surabaya</td>\n      <td>10690010</td>\n      <td>Pekerjaan Pengangkutan Sampah Surabaya Timur II</td>\n      <td>5561005049</td>\n      <td>4.697102e+09</td>\n      <td>APBD</td>\n      <td>Perusahaan Non Kecil</td>\n      <td>Jasa Lainnya</td>\n      <td>Tender</td>\n      <td>Sistem Gugur</td>\n      <td>Pasca Satu File</td>\n      <td>Harga Satuan</td>\n      <td>4.692706e+09</td>\n      <td>4.692706e+09</td>\n      <td>4.689403e+09</td>\n      <td>0.0</td>\n      <td>4.689403e+09</td>\n    </tr>\n    <tr>\n      <th>...</th>\n      <td>...</td>\n      <td>...</td>\n      <td>...</td>\n      <td>...</td>\n      <td>...</td>\n      <td>...</td>\n      <td>...</td>\n      <td>...</td>\n      <td>...</td>\n      <td>...</td>\n      <td>...</td>\n      <td>...</td>\n      <td>...</td>\n      <td>...</td>\n      <td>...</td>\n      <td>...</td>\n      <td>...</td>\n      <td>...</td>\n    </tr>\n    <tr>\n      <th>91454</th>\n      <td>802</td>\n      <td>SPSE Nasional</td>\n      <td>87875802</td>\n      <td>Pemeliharaan Berkala / Peningkatan Jalan Kampu...</td>\n      <td>1150000000</td>\n      <td>1.149991e+09</td>\n      <td>APBD</td>\n      <td>Perusahaan Kecil</td>\n      <td>Pekerjaan Konstruksi</td>\n      <td>Tender</td>\n      <td>Sistem Gugur</td>\n      <td>Pasca Satu File</td>\n      <td>Gabungan Lumsum dan Harga Satuan</td>\n      <td>1.108964e+09</td>\n      <td>1.108964e+09</td>\n      <td>0.000000e+00</td>\n      <td>0.0</td>\n      <td>1.108964e+09</td>\n    </tr>\n    <tr>\n      <th>91455</th>\n      <td>802</td>\n      <td>SPSE Nasional</td>\n      <td>878786802</td>\n      <td>Rehabilitasi Box Culvert Way Kali Toman Kampun...</td>\n      <td>380000000</td>\n      <td>3.799916e+08</td>\n      <td>APBD</td>\n      <td>Perusahaan Kecil</td>\n      <td>Pekerjaan Konstruksi</td>\n      <td>Tender</td>\n      <td>Sistem Gugur</td>\n      <td>Pasca Satu File</td>\n      <td>Gabungan Lumsum dan Harga Satuan</td>\n      <td>3.325000e+08</td>\n      <td>3.325000e+08</td>\n      <td>3.291700e+08</td>\n      <td>0.0</td>\n      <td>3.291700e+08</td>\n    </tr>\n    <tr>\n      <th>91456</th>\n      <td>802</td>\n      <td>SPSE Nasional</td>\n      <td>878787802</td>\n      <td>Pemeliharaan Berkala/Rehabilitasi Ruas Jalan P...</td>\n      <td>700000000</td>\n      <td>6.999880e+08</td>\n      <td>APBD</td>\n      <td>Perusahaan Kecil</td>\n      <td>Pekerjaan Konstruksi</td>\n      <td>Tender</td>\n      <td>Sistem Gugur</td>\n      <td>Pasca Satu File</td>\n      <td>Gabungan Lumsum dan Harga Satuan</td>\n      <td>5.220834e+08</td>\n      <td>5.220834e+08</td>\n      <td>0.000000e+00</td>\n      <td>0.0</td>\n      <td>5.220834e+08</td>\n    </tr>\n    <tr>\n      <th>91457</th>\n      <td>802</td>\n      <td>SPSE Nasional</td>\n      <td>878788802</td>\n      <td>Pemeliharaan Berkala/Peningkatan Jalan Penghub...</td>\n      <td>650000000</td>\n      <td>6.499871e+08</td>\n      <td>APBD</td>\n      <td>Perusahaan Kecil</td>\n      <td>Pekerjaan Konstruksi</td>\n      <td>Tender</td>\n      <td>Sistem Gugur</td>\n      <td>Pasca Satu File</td>\n      <td>Gabungan Lumsum dan Harga Satuan</td>\n      <td>5.199897e+08</td>\n      <td>5.199897e+08</td>\n      <td>0.000000e+00</td>\n      <td>0.0</td>\n      <td>5.199897e+08</td>\n    </tr>\n    <tr>\n      <th>91458</th>\n      <td>802</td>\n      <td>SPSE Nasional</td>\n      <td>878789802</td>\n      <td>Pembangunan Pagar Keliling dan Drainase Di Sek...</td>\n      <td>420000000</td>\n      <td>4.199984e+08</td>\n      <td>APBD</td>\n      <td>Perusahaan Kecil</td>\n      <td>Pekerjaan Konstruksi</td>\n      <td>Tender</td>\n      <td>Sistem Gugur</td>\n      <td>Pasca Satu File</td>\n      <td>Gabungan Lumsum dan Harga Satuan</td>\n      <td>3.359987e+08</td>\n      <td>3.359987e+08</td>\n      <td>0.000000e+00</td>\n      <td>0.0</td>\n      <td>3.359987e+08</td>\n    </tr>\n  </tbody>\n</table>\n<p>86818 rows × 18 columns</p>\n</div>"
     },
     "execution_count": 11,
     "metadata": {},
     "output_type": "execute_result"
    }
   ],
   "source": [
    "dataclean"
   ]
  },
  {
   "cell_type": "code",
   "execution_count": null,
   "metadata": {},
   "outputs": [],
   "source": [
    "import matplotlib.pyplot as plt\n",
    "import numpy as np"
   ]
  },
  {
   "cell_type": "code",
   "execution_count": 12,
   "metadata": {
    "collapsed": false,
    "jupyter": {
     "outputs_hidden": false
    }
   },
   "outputs": [
    {
     "data": {
      "text/plain": "       kd_lpse      nama_lpse  kd_tender  \\\n91454      802  SPSE Nasional   87875802   \n91455      802  SPSE Nasional  878786802   \n91456      802  SPSE Nasional  878787802   \n91457      802  SPSE Nasional  878788802   \n91458      802  SPSE Nasional  878789802   \n\n                                              nama_paket        pagu  \\\n91454  Pemeliharaan Berkala / Peningkatan Jalan Kampu...  1150000000   \n91455  Rehabilitasi Box Culvert Way Kali Toman Kampun...   380000000   \n91456  Pemeliharaan Berkala/Rehabilitasi Ruas Jalan P...   700000000   \n91457  Pemeliharaan Berkala/Peningkatan Jalan Penghub...   650000000   \n91458  Pembangunan Pagar Keliling dan Drainase Di Sek...   420000000   \n\n                hps   ang kualifikasi_paket    kategori_pengadaan  \\\n91454  1.149991e+09  APBD  Perusahaan Kecil  Pekerjaan Konstruksi   \n91455  3.799916e+08  APBD  Perusahaan Kecil  Pekerjaan Konstruksi   \n91456  6.999880e+08  APBD  Perusahaan Kecil  Pekerjaan Konstruksi   \n91457  6.499871e+08  APBD  Perusahaan Kecil  Pekerjaan Konstruksi   \n91458  4.199984e+08  APBD  Perusahaan Kecil  Pekerjaan Konstruksi   \n\n      mtd_pemilihan  mtd_evaluasi  mtd_kualifikasi  \\\n91454        Tender  Sistem Gugur  Pasca Satu File   \n91455        Tender  Sistem Gugur  Pasca Satu File   \n91456        Tender  Sistem Gugur  Pasca Satu File   \n91457        Tender  Sistem Gugur  Pasca Satu File   \n91458        Tender  Sistem Gugur  Pasca Satu File   \n\n                     kontrak_pembayaran  nilai_penawaran  nilai_terkoreksi  \\\n91454  Gabungan Lumsum dan Harga Satuan     1.108964e+09      1.108964e+09   \n91455  Gabungan Lumsum dan Harga Satuan     3.325000e+08      3.325000e+08   \n91456  Gabungan Lumsum dan Harga Satuan     5.220834e+08      5.220834e+08   \n91457  Gabungan Lumsum dan Harga Satuan     5.199897e+08      5.199897e+08   \n91458  Gabungan Lumsum dan Harga Satuan     3.359987e+08      3.359987e+08   \n\n       nilai_negosiasi  nilai_reverse_auction  nilai_kontrak  \n91454              0.0                    0.0   1.108964e+09  \n91455      329170000.0                    0.0   3.291700e+08  \n91456              0.0                    0.0   5.220834e+08  \n91457              0.0                    0.0   5.199897e+08  \n91458              0.0                    0.0   3.359987e+08  ",
      "text/html": "<div>\n<style scoped>\n    .dataframe tbody tr th:only-of-type {\n        vertical-align: middle;\n    }\n\n    .dataframe tbody tr th {\n        vertical-align: top;\n    }\n\n    .dataframe thead th {\n        text-align: right;\n    }\n</style>\n<table border=\"1\" class=\"dataframe\">\n  <thead>\n    <tr style=\"text-align: right;\">\n      <th></th>\n      <th>kd_lpse</th>\n      <th>nama_lpse</th>\n      <th>kd_tender</th>\n      <th>nama_paket</th>\n      <th>pagu</th>\n      <th>hps</th>\n      <th>ang</th>\n      <th>kualifikasi_paket</th>\n      <th>kategori_pengadaan</th>\n      <th>mtd_pemilihan</th>\n      <th>mtd_evaluasi</th>\n      <th>mtd_kualifikasi</th>\n      <th>kontrak_pembayaran</th>\n      <th>nilai_penawaran</th>\n      <th>nilai_terkoreksi</th>\n      <th>nilai_negosiasi</th>\n      <th>nilai_reverse_auction</th>\n      <th>nilai_kontrak</th>\n    </tr>\n  </thead>\n  <tbody>\n    <tr>\n      <th>91454</th>\n      <td>802</td>\n      <td>SPSE Nasional</td>\n      <td>87875802</td>\n      <td>Pemeliharaan Berkala / Peningkatan Jalan Kampu...</td>\n      <td>1150000000</td>\n      <td>1.149991e+09</td>\n      <td>APBD</td>\n      <td>Perusahaan Kecil</td>\n      <td>Pekerjaan Konstruksi</td>\n      <td>Tender</td>\n      <td>Sistem Gugur</td>\n      <td>Pasca Satu File</td>\n      <td>Gabungan Lumsum dan Harga Satuan</td>\n      <td>1.108964e+09</td>\n      <td>1.108964e+09</td>\n      <td>0.0</td>\n      <td>0.0</td>\n      <td>1.108964e+09</td>\n    </tr>\n    <tr>\n      <th>91455</th>\n      <td>802</td>\n      <td>SPSE Nasional</td>\n      <td>878786802</td>\n      <td>Rehabilitasi Box Culvert Way Kali Toman Kampun...</td>\n      <td>380000000</td>\n      <td>3.799916e+08</td>\n      <td>APBD</td>\n      <td>Perusahaan Kecil</td>\n      <td>Pekerjaan Konstruksi</td>\n      <td>Tender</td>\n      <td>Sistem Gugur</td>\n      <td>Pasca Satu File</td>\n      <td>Gabungan Lumsum dan Harga Satuan</td>\n      <td>3.325000e+08</td>\n      <td>3.325000e+08</td>\n      <td>329170000.0</td>\n      <td>0.0</td>\n      <td>3.291700e+08</td>\n    </tr>\n    <tr>\n      <th>91456</th>\n      <td>802</td>\n      <td>SPSE Nasional</td>\n      <td>878787802</td>\n      <td>Pemeliharaan Berkala/Rehabilitasi Ruas Jalan P...</td>\n      <td>700000000</td>\n      <td>6.999880e+08</td>\n      <td>APBD</td>\n      <td>Perusahaan Kecil</td>\n      <td>Pekerjaan Konstruksi</td>\n      <td>Tender</td>\n      <td>Sistem Gugur</td>\n      <td>Pasca Satu File</td>\n      <td>Gabungan Lumsum dan Harga Satuan</td>\n      <td>5.220834e+08</td>\n      <td>5.220834e+08</td>\n      <td>0.0</td>\n      <td>0.0</td>\n      <td>5.220834e+08</td>\n    </tr>\n    <tr>\n      <th>91457</th>\n      <td>802</td>\n      <td>SPSE Nasional</td>\n      <td>878788802</td>\n      <td>Pemeliharaan Berkala/Peningkatan Jalan Penghub...</td>\n      <td>650000000</td>\n      <td>6.499871e+08</td>\n      <td>APBD</td>\n      <td>Perusahaan Kecil</td>\n      <td>Pekerjaan Konstruksi</td>\n      <td>Tender</td>\n      <td>Sistem Gugur</td>\n      <td>Pasca Satu File</td>\n      <td>Gabungan Lumsum dan Harga Satuan</td>\n      <td>5.199897e+08</td>\n      <td>5.199897e+08</td>\n      <td>0.0</td>\n      <td>0.0</td>\n      <td>5.199897e+08</td>\n    </tr>\n    <tr>\n      <th>91458</th>\n      <td>802</td>\n      <td>SPSE Nasional</td>\n      <td>878789802</td>\n      <td>Pembangunan Pagar Keliling dan Drainase Di Sek...</td>\n      <td>420000000</td>\n      <td>4.199984e+08</td>\n      <td>APBD</td>\n      <td>Perusahaan Kecil</td>\n      <td>Pekerjaan Konstruksi</td>\n      <td>Tender</td>\n      <td>Sistem Gugur</td>\n      <td>Pasca Satu File</td>\n      <td>Gabungan Lumsum dan Harga Satuan</td>\n      <td>3.359987e+08</td>\n      <td>3.359987e+08</td>\n      <td>0.0</td>\n      <td>0.0</td>\n      <td>3.359987e+08</td>\n    </tr>\n  </tbody>\n</table>\n</div>"
     },
     "execution_count": 12,
     "metadata": {},
     "output_type": "execute_result"
    }
   ],
   "source": [
    "#check 5 data terbawah\n",
    "df.tail()"
   ]
  },
  {
   "cell_type": "code",
   "execution_count": null,
   "metadata": {},
   "outputs": [],
   "source": []
  },
  {
   "cell_type": "code",
   "execution_count": null,
   "metadata": {
    "collapsed": false,
    "jupyter": {
     "outputs_hidden": false
    }
   },
   "outputs": [],
   "source": [
    "#check tipe data\n",
    "df.info()"
   ]
  },
  {
   "cell_type": "code",
   "execution_count": null,
   "metadata": {},
   "outputs": [],
   "source": [
    "# Mengambil kolom yang diinginkan dari DataFrame\n",
    "kolom_yang_diinginkan = [\"id\", \"score\", \"ad_id\", \"count\", \"vasTags\", \"title\", \"localityId\", \"raw\", \"main_info\"]\n",
    "df = df[kolom_yang_diinginkan]\n"
   ]
  },
  {
   "cell_type": "code",
   "execution_count": null,
   "metadata": {},
   "outputs": [],
   "source": [
    "df.isnull().sum()\n"
   ]
  },
  {
   "cell_type": "code",
   "execution_count": null,
   "metadata": {},
   "outputs": [],
   "source": [
    "df['localityId']"
   ]
  },
  {
   "cell_type": "code",
   "execution_count": null,
   "metadata": {},
   "outputs": [],
   "source": [
    "df['vasTags']"
   ]
  },
  {
   "cell_type": "code",
   "execution_count": null,
   "metadata": {},
   "outputs": [],
   "source": [
    "# Calculate the percentage of null values for each column\n",
    "# kegunaan menghitung missing value untuk mengetahui banyaknya data hilang, jika hanya < bisa dilakukan delete data. Diatas 1% harus menggunakan metode statistik (mean, median, modus) | backfill, frontfill, interpolasi\n",
    "percentage_null = (df.isnull().sum() / len(df)) * 100\n",
    "\n",
    "# Create a DataFrame to display the percentage of null values and sort it\n",
    "null_summary = pd.DataFrame({\n",
    "    'Column': percentage_null.index,\n",
    "    'Percentage_Null': percentage_null.values\n",
    "})\n",
    "\n"
   ]
  },
  {
   "cell_type": "code",
   "execution_count": null,
   "metadata": {},
   "outputs": [],
   "source": [
    "\n",
    "# Sort the DataFrame by the Percentage_Null column in descending order\n",
    "null_summary = null_summary.sort_values(by='Percentage_Null', ascending=False)\n",
    "\n",
    "# Display the sorted DataFrame\n",
    "print(null_summary)\n"
   ]
  },
  {
   "cell_type": "code",
   "execution_count": null,
   "metadata": {},
   "outputs": [],
   "source": [
    "\n",
    "\n",
    "# Menghitung modus dari masing-masing kolom\n",
    "modus_vasTags = df['vasTags'].mode()[0]\n",
    "modus_localityId = df['localityId'].mode()[0]\n",
    "\n",
    "# Mengganti nilai-nilai yang hilang dengan modus\n",
    "df['vasTags'].fillna(modus_vasTags, inplace=True)\n",
    "df['localityId'].fillna(modus_localityId, inplace=True)\n"
   ]
  },
  {
   "cell_type": "markdown",
   "metadata": {},
   "source": [
    "## Check Missing Value"
   ]
  },
  {
   "cell_type": "code",
   "execution_count": null,
   "metadata": {},
   "outputs": [],
   "source": [
    "# Calculate the percentage of null values for each column\n",
    "percentage_null = (df.isnull().sum() / len(df)) * 100\n",
    "\n",
    "# Create a DataFrame to display the percentage of null values and sort it\n",
    "null_summary = pd.DataFrame({\n",
    "    'Column': percentage_null.index,\n",
    "    'Percentage_Null': percentage_null.values\n",
    "})\n",
    "\n",
    "\n",
    "# Sort the DataFrame by the Percentage_Null column in descending order\n",
    "null_summary = null_summary.sort_values(by='Percentage_Null', ascending=False)\n",
    "\n",
    "# Display the sorted DataFrame\n",
    "print(null_summary)\n"
   ]
  },
  {
   "cell_type": "markdown",
   "metadata": {
    "id": "3zqG9-ZN8-su"
   },
   "source": [
    "# Data Cleaning"
   ]
  },
  {
   "cell_type": "markdown",
   "metadata": {
    "id": "0FX3cCJC_m-c"
   },
   "source": [
    "Untuk saat ini dilakukan drop duplikat dan missing values.\n",
    "\n",
    "Nantinya data cleaning dilakukan sesuai dengan konteks datanya."
   ]
  },
  {
   "cell_type": "code",
   "execution_count": null,
   "metadata": {
    "id": "hmvHV8XU9CPl"
   },
   "outputs": [],
   "source": [
    "df = df.drop_duplicates()"
   ]
  },
  {
   "cell_type": "code",
   "execution_count": null,
   "metadata": {
    "id": "xfXyxAH09ESL"
   },
   "outputs": [],
   "source": [
    "df = df.dropna()"
   ]
  },
  {
   "cell_type": "code",
   "execution_count": null,
   "metadata": {
    "colab": {
     "base_uri": "https://localhost:8080/",
     "height": 424
    },
    "id": "tOh1HvJff1hm",
    "outputId": "d2f9bfa8-c76b-42f3-e59e-90eb683ebf84"
   },
   "outputs": [],
   "source": [
    "df"
   ]
  },
  {
   "cell_type": "code",
   "execution_count": null,
   "metadata": {},
   "outputs": [],
   "source": [
    "import pandas as pd\n",
    "\n",
    "# Misalkan df adalah DataFrame Anda\n",
    "# df = ...\n",
    "\n",
    "# Mengganti nama kolom\n",
    "df = df.rename(columns={\n",
    "    'id': 'ID',\n",
    "    'score': 'SKOR',\n",
    "    'ad_id': 'ID_DETAIL',\n",
    "    'count': 'JUMLAH',\n",
    "    'vasTags': 'FEATURE_TAMBAHAN',\n",
    "    'title': 'JENIS_BARANG',\n",
    "    'localityId': 'ID_DETAIL_BARANG',\n",
    "    'raw': 'HARGA',\n",
    "    'main_info': 'TAHUN_PRODUK_RELEASE'\n",
    "})\n",
    "\n",
    "# Tampilkan DataFrame setelah penggantian nama kolom\n",
    "print(df)\n"
   ]
  },
  {
   "cell_type": "code",
   "execution_count": null,
   "metadata": {},
   "outputs": [],
   "source": [
    "df"
   ]
  },
  {
   "cell_type": "code",
   "execution_count": null,
   "metadata": {
    "collapsed": false,
    "jupyter": {
     "outputs_hidden": false
    }
   },
   "outputs": [],
   "source": [
    "from sklearn.preprocessing import LabelEncoder\n",
    "\n",
    "# Misalkan df adalah DataFrame Anda\n",
    "# df = ...\n",
    "# karna stdev mempengaruhi model\n",
    "\n",
    "# Lakukan Label Encoding untuk kolom-kolom kategorikal\n",
    "#\n",
    "label_encoder = LabelEncoder()\n",
    "\n",
    "for column in [ 'ID','SKOR','ID_DETAIL','JUMLAH','FEATURE_TAMBAHAN','JENIS_BARANG','ID_DETAIL_BARANG','HARGA','TAHUN_PRODUK_RELEASE']:\n",
    "    df[column] = label_encoder.fit_transform(df[column])\n"
   ]
  },
  {
   "cell_type": "code",
   "execution_count": null,
   "metadata": {},
   "outputs": [],
   "source": [
    "data_awal=df"
   ]
  },
  {
   "cell_type": "code",
   "execution_count": null,
   "metadata": {},
   "outputs": [],
   "source": [
    "data_awal"
   ]
  },
  {
   "cell_type": "code",
   "execution_count": null,
   "metadata": {},
   "outputs": [],
   "source": [
    "# Lakukan join berdasarkan indeks\n",
    "result = data_awal.merge(df, left_index=True, right_index=True, how='left')\n",
    "\n",
    "# Tampilkan hasil join\n",
    "print(result)"
   ]
  },
  {
   "cell_type": "code",
   "execution_count": null,
   "metadata": {},
   "outputs": [],
   "source": [
    "result.to_excel('result.xlsx')"
   ]
  },
  {
   "cell_type": "markdown",
   "metadata": {
    "id": "fvbGLzUX8tmd"
   },
   "source": [
    "# Linear Regression"
   ]
  },
  {
   "cell_type": "markdown",
   "metadata": {
    "id": "gjyWv-5n8v8e"
   },
   "source": [
    "Sebelum melakukan prediksi, terlebih dahulu harus ditentukan mana kolom yang menjadi feature dan target.\n",
    "\n",
    "Dalam hal ini kita akan menggunakan `qty_pembalian` sebagai target dan lainnya sebagai feature."
   ]
  },
  {
   "cell_type": "markdown",
   "metadata": {
    "id": "x93u9m8l-1H8"
   },
   "source": [
    "## Split Feature dan Target"
   ]
  },
  {
   "cell_type": "code",
   "execution_count": null,
   "metadata": {
    "id": "i0rW4u3l8tFQ"
   },
   "outputs": [],
   "source": [
    "# Hapus kolom 'qty_pembelian' dan 'Date' dari DataFrame\n",
    "X = df.drop(columns=['HARGA'])\n"
   ]
  },
  {
   "cell_type": "code",
   "execution_count": null,
   "metadata": {
    "id": "ON88OXnugCeu"
   },
   "outputs": [],
   "source": [
    "y = df[['HARGA']] # Target yang akan diprediksi"
   ]
  },
  {
   "cell_type": "code",
   "execution_count": null,
   "metadata": {
    "colab": {
     "base_uri": "https://localhost:8080/",
     "height": 206
    },
    "id": "E7uB-UOF_Hxd",
    "outputId": "d4e6d57d-340f-4d9f-8a57-863a9da820b3"
   },
   "outputs": [],
   "source": [
    "X.head()"
   ]
  },
  {
   "cell_type": "code",
   "execution_count": null,
   "metadata": {
    "colab": {
     "base_uri": "https://localhost:8080/",
     "height": 206
    },
    "id": "5OXMmUiN_MQk",
    "outputId": "b81a4c9e-e875-4048-d635-c9257574255d"
   },
   "outputs": [],
   "source": [
    "y.head()"
   ]
  },
  {
   "cell_type": "markdown",
   "metadata": {
    "id": "0kvX1e-8_S3T"
   },
   "source": [
    "## Train Test Split"
   ]
  },
  {
   "cell_type": "code",
   "execution_count": null,
   "metadata": {
    "id": "QPHvBfck_Ua0"
   },
   "outputs": [],
   "source": [
    "from sklearn.model_selection import train_test_split\n",
    "\n",
    "X_train, X_test, y_train, y_test = train_test_split(X, y, test_size=0.20, random_state=42)"
   ]
  },
  {
   "cell_type": "code",
   "execution_count": null,
   "metadata": {
    "colab": {
     "base_uri": "https://localhost:8080/"
    },
    "id": "q3jEoSRC_-v4",
    "outputId": "cc1c876d-dfbe-4678-ae09-95512f3f8455"
   },
   "outputs": [],
   "source": [
    "X_train.shape,  X_test.shape, y_train.shape, y_test.shape"
   ]
  },
  {
   "cell_type": "code",
   "execution_count": null,
   "metadata": {},
   "outputs": [],
   "source": [
    "X_test"
   ]
  },
  {
   "cell_type": "markdown",
   "metadata": {
    "id": "2Bumr8FOAmEG"
   },
   "source": [
    "## Model Training"
   ]
  },
  {
   "cell_type": "code",
   "execution_count": null,
   "metadata": {
    "colab": {
     "base_uri": "https://localhost:8080/",
     "height": 74
    },
    "id": "Vn-ET3wUAQ8D",
    "outputId": "4d2355f1-6a66-4d0b-dece-ace75b8c0a82"
   },
   "outputs": [],
   "source": [
    "from sklearn.linear_model import LinearRegression\n",
    "\n",
    "# Tentukan model yang akan digunakan\n",
    "lin_reg = LinearRegression()\n",
    "\n",
    "# Train Model\n",
    "lin_reg.fit(X_train, y_train)"
   ]
  },
  {
   "cell_type": "code",
   "execution_count": null,
   "metadata": {
    "colab": {
     "base_uri": "https://localhost:8080/",
     "height": 269
    },
    "id": "TxU5SVbwAaPx",
    "outputId": "4b1afd14-b210-44e0-a20b-223ccebf4c28"
   },
   "outputs": [],
   "source": [
    "# retrieve the coefficients\n",
    "data = X_train\n",
    "model = lin_reg\n",
    "\n",
    "coef_df = pd.DataFrame({\n",
    "    'feature':['intercept'] + data.columns.tolist(),\n",
    "    'coefficient':[model.intercept_[0]] + list(model.coef_[0])\n",
    "})\n",
    "\n",
    "coef_df"
   ]
  },
  {
   "cell_type": "markdown",
   "metadata": {
    "id": "rYOoA_p-hy2k"
   },
   "source": [
    "\n",
    "# Multiple Regression"
   ]
  },
  {
   "cell_type": "markdown",
   "metadata": {
    "id": "NO147XhnzGXW"
   },
   "source": [
    "## Split Feature dan Target"
   ]
  },
  {
   "cell_type": "code",
   "execution_count": null,
   "metadata": {
    "id": "6xeYr3Pgh6bk"
   },
   "outputs": [],
   "source": [
    "# Hapus kolom 'qty_pembelian' dan 'Date' dari DataFrame\n",
    "X = df.drop(columns=['HARGA'])\n"
   ]
  },
  {
   "cell_type": "code",
   "execution_count": null,
   "metadata": {
    "id": "TMJDWP38h9A0"
   },
   "outputs": [],
   "source": [
    "y = df[['HARGA']] # Target yang akan diprediksi"
   ]
  },
  {
   "cell_type": "markdown",
   "metadata": {
    "id": "RspWKVflzGXe"
   },
   "source": [
    "## Train Test Split"
   ]
  },
  {
   "cell_type": "code",
   "execution_count": null,
   "metadata": {
    "id": "jC5U0JrpzGXe"
   },
   "outputs": [],
   "source": [
    "from sklearn.model_selection import train_test_split\n",
    "\n",
    "X_train, X_test, y_train, y_test = train_test_split(X, y, test_size=0.20, random_state=42)"
   ]
  },
  {
   "cell_type": "code",
   "execution_count": null,
   "metadata": {
    "colab": {
     "base_uri": "https://localhost:8080/"
    },
    "id": "g8PBZr6ZzGXe",
    "outputId": "0883616d-6aad-450e-be0b-4cd902071976"
   },
   "outputs": [],
   "source": [
    "X_train.shape,  X_test.shape, y_train.shape, y_test.shape"
   ]
  },
  {
   "cell_type": "markdown",
   "metadata": {
    "id": "Lyg9CA9kzLpx"
   },
   "source": [
    "## Multicollinearity Check"
   ]
  },
  {
   "cell_type": "code",
   "execution_count": null,
   "metadata": {
    "colab": {
     "base_uri": "https://localhost:8080/",
     "height": 724
    },
    "id": "c5xEVFvXzlan",
    "outputId": "01af8a5b-1bcd-4657-d0f5-8494e6513b10"
   },
   "outputs": [],
   "source": [
    "import matplotlib.pyplot as plt\n",
    "import seaborn as sns\n",
    "\n",
    "# heatmap correlation\n",
    "data_train = pd.concat([X_train, y_train], axis=1)\n",
    "corr = data_train.corr()\n",
    "\n",
    "plt.figure(figsize=(10,7))\n",
    "sns.heatmap(corr, annot=True, fmt='.2f')\n",
    "plt.show()"
   ]
  },
  {
   "cell_type": "code",
   "execution_count": null,
   "metadata": {
    "collapsed": false,
    "jupyter": {
     "outputs_hidden": false
    }
   },
   "outputs": [],
   "source": [
    "# calculate VIF scores for each feature\n",
    "from statsmodels.stats.outliers_influence import variance_inflation_factor as vif\n",
    "from statsmodels.tools.tools import add_constant\n",
    "\n",
    "X_vif = add_constant(X_train)\n",
    "\n",
    "vif_df = pd.DataFrame([vif(X_vif.values, i)\n",
    "               for i in range(X_vif.shape[1])],\n",
    "              index=X_vif.columns).reset_index()\n",
    "vif_df.columns = ['feature','vif_score']\n",
    "vif_df = vif_df.loc[vif_df.feature!='const']\n",
    "vif_df"
   ]
  },
  {
   "cell_type": "code",
   "execution_count": null,
   "metadata": {
    "colab": {
     "base_uri": "https://localhost:8080/",
     "height": 424
    },
    "id": "6iyI7sdVigUF",
    "outputId": "0b22dffd-0372-4f5a-deb2-868ca0463f71"
   },
   "outputs": [],
   "source": [
    "X_train"
   ]
  },
  {
   "cell_type": "code",
   "execution_count": null,
   "metadata": {
    "id": "xNeJ1zcxiPbc"
   },
   "outputs": [],
   "source": [
    "X_train = X_train.drop(columns=['ID'])\n"
   ]
  },
  {
   "cell_type": "code",
   "execution_count": null,
   "metadata": {
    "id": "A5Wv-2f3ioB1"
   },
   "outputs": [],
   "source": [
    "\n",
    "X_test = X_test.drop(columns=['ID'])"
   ]
  },
  {
   "cell_type": "code",
   "execution_count": null,
   "metadata": {},
   "outputs": [],
   "source": [
    "\n",
    "\n",
    "# heatmap correlation\n",
    "data_train = pd.concat([X_train, y_train], axis=1)\n",
    "corr = data_train.corr()\n",
    "\n",
    "plt.figure(figsize=(10,7))\n",
    "sns.heatmap(corr, annot=True, fmt='.2f')\n",
    "plt.show()"
   ]
  },
  {
   "cell_type": "code",
   "execution_count": null,
   "metadata": {},
   "outputs": [],
   "source": [
    "# calculate VIF scores for each feature\n",
    "\n",
    "X_vif = add_constant(X_train)\n",
    "\n",
    "vif_df = pd.DataFrame([vif(X_vif.values, i)\n",
    "               for i in range(X_vif.shape[1])],\n",
    "              index=X_vif.columns).reset_index()\n",
    "vif_df.columns = ['feature','vif_score']\n",
    "vif_df = vif_df.loc[vif_df.feature!='const']\n",
    "vif_df"
   ]
  },
  {
   "cell_type": "markdown",
   "metadata": {
    "id": "EoGmo4Me1Cdt"
   },
   "source": [
    "Tidak ada vif score yang tinggi"
   ]
  },
  {
   "cell_type": "markdown",
   "metadata": {
    "id": "NQcv-QyJzGXe"
   },
   "source": [
    "## Model Training"
   ]
  },
  {
   "cell_type": "code",
   "execution_count": null,
   "metadata": {
    "colab": {
     "base_uri": "https://localhost:8080/",
     "height": 74
    },
    "id": "Xu4fz437zGXe",
    "outputId": "e9de6a4b-6366-4122-fb84-0cd50de12ade"
   },
   "outputs": [],
   "source": [
    "from sklearn.linear_model import LinearRegression\n",
    "\n",
    "# Tentukan model yang akan digunakan\n",
    "multi_reg = LinearRegression()\n",
    "\n",
    "# Train Model\n",
    "multi_reg.fit(X_train, y_train)"
   ]
  },
  {
   "cell_type": "markdown",
   "metadata": {
    "id": "kL-p_jzcDtvz"
   },
   "source": [
    "## Model Evaluation"
   ]
  },
  {
   "cell_type": "markdown",
   "metadata": {
    "id": "Wy-0EBFrHXGt"
   },
   "source": [
    "### Training Error"
   ]
  },
  {
   "cell_type": "markdown",
   "metadata": {
    "id": "pkTVaNOzIIFU"
   },
   "source": [
    "Prediksi data train menggunakan model yang sudah dilatih"
   ]
  },
  {
   "cell_type": "code",
   "execution_count": null,
   "metadata": {
    "id": "whgHR-eKHgLG"
   },
   "outputs": [],
   "source": [
    "y_predict_train = multi_reg.predict(X_train)"
   ]
  },
  {
   "cell_type": "code",
   "execution_count": null,
   "metadata": {
    "colab": {
     "base_uri": "https://localhost:8080/"
    },
    "id": "zEussaNXDvaP",
    "outputId": "a01d5bd5-67a3-4408-e808-5a15c2f69419"
   },
   "outputs": [],
   "source": [
    "from sklearn.metrics import r2_score\n",
    "from sklearn.metrics import mean_squared_error\n",
    "\n",
    "print('RMSE for training data is {}'.format(np.sqrt(mean_squared_error(y_predict_train, y_train))))"
   ]
  },
  {
   "cell_type": "markdown",
   "metadata": {
    "id": "4yPOmSPfHZI4"
   },
   "source": [
    "### Testing Error"
   ]
  },
  {
   "cell_type": "markdown",
   "metadata": {
    "id": "zmhsWdCJIND7"
   },
   "source": [
    "Prediksi data test menggunakan model yang sudah dilatih"
   ]
  },
  {
   "cell_type": "code",
   "execution_count": null,
   "metadata": {
    "id": "HvVUqGAQHVfU"
   },
   "outputs": [],
   "source": [
    "y_predict_test = multi_reg.predict(X_test)"
   ]
  },
  {
   "cell_type": "code",
   "execution_count": null,
   "metadata": {
    "colab": {
     "base_uri": "https://localhost:8080/"
    },
    "id": "z6yb9oJdHtl4",
    "outputId": "48103821-86cd-4f2f-8beb-0d3abbd35f67"
   },
   "outputs": [],
   "source": [
    "from sklearn.metrics import mean_squared_error\n",
    "\n",
    "print('RMSE for testing data is {}'.format(np.sqrt(mean_squared_error(y_predict_test, y_test))))"
   ]
  },
  {
   "cell_type": "code",
   "execution_count": null,
   "metadata": {
    "id": "LnoJew4npk1q"
   },
   "outputs": [],
   "source": [
    "import numpy as np\n",
    "\n",
    "# Anggaplah X_test dan y_predict_test adalah array NumPy\n",
    "X_test_with_predictions = np.column_stack((X_test, y_predict_test))\n"
   ]
  },
  {
   "cell_type": "code",
   "execution_count": null,
   "metadata": {
    "id": "r8WMH8copnEJ"
   },
   "outputs": [],
   "source": [
    "import pandas as pd\n",
    "\n",
    "# Anggaplah X_test dan y_predict_test adalah array NumPy\n",
    "# atau dataframe pandas, tergantung pada format data yang Anda miliki\n",
    "X_test_with_predictions = pd.DataFrame(data=np.column_stack((X_test, y_predict_test)),\n",
    "                                       columns=list(X_test.columns) + ['PREDIKSI'])\n"
   ]
  },
  {
   "cell_type": "code",
   "execution_count": null,
   "metadata": {},
   "outputs": [],
   "source": [
    "X_test_with_predictions "
   ]
  },
  {
   "cell_type": "code",
   "execution_count": null,
   "metadata": {},
   "outputs": [],
   "source": [
    "\n",
    "# Membulatkan nilai kolom \"Predicted\" ke bilangan bulat\n",
    "X_test_with_predictions['PREDIKSI'] = X_test_with_predictions['PREDIKSI'].round().astype(int)\n",
    "\n",
    "# Tampilkan DataFrame setelah membulatkan nilai\n",
    "print(X_test_with_predictions)\n"
   ]
  },
  {
   "cell_type": "code",
   "execution_count": null,
   "metadata": {
    "colab": {
     "base_uri": "https://localhost:8080/",
     "height": 424
    },
    "id": "Lp-oVJq_rp4B",
    "outputId": "6efb35a8-4fa8-4a0a-ef63-321bff9e1f36"
   },
   "outputs": [],
   "source": [
    "y_test"
   ]
  },
  {
   "cell_type": "code",
   "execution_count": null,
   "metadata": {},
   "outputs": [],
   "source": []
  },
  {
   "cell_type": "code",
   "execution_count": null,
   "metadata": {
    "id": "yG7IQY9Hqsrw"
   },
   "outputs": [],
   "source": [
    "\n",
    "# Anggaplah X_test dan y_predict_test adalah array NumPy\n",
    "# atau dataframe pandas, tergantung pada format data yang Anda miliki\n",
    "X_akhir = pd.DataFrame(data=np.column_stack((X_test_with_predictions, y_test)),\n",
    "                                       columns=list(X_test_with_predictions.columns) + ['AKTUAL'])\n"
   ]
  },
  {
   "cell_type": "code",
   "execution_count": null,
   "metadata": {
    "colab": {
     "base_uri": "https://localhost:8080/",
     "height": 424
    },
    "id": "i8npnRZdsA5b",
    "outputId": "bfdd1693-8e48-4c80-960f-279515701c29"
   },
   "outputs": [],
   "source": [
    "X_akhir"
   ]
  },
  {
   "cell_type": "code",
   "execution_count": null,
   "metadata": {
    "colab": {
     "base_uri": "https://localhost:8080/",
     "height": 472
    },
    "id": "I52GDnIdshA6",
    "outputId": "8a3d303d-5ada-498d-f330-997c04077aa5"
   },
   "outputs": [],
   "source": [
    "import matplotlib.pyplot as plt\n",
    "\n",
    "# Dataframe\n",
    "\n",
    "# Scatter plot\n",
    "plt.scatter(X_akhir['PREDIKSI'], X_akhir['AKTUAL'])\n",
    "plt.title('Scatter Plot Predicted vs Aktual')\n",
    "plt.xlabel('Predicted')\n",
    "plt.ylabel('Aktual')\n",
    "plt.show()\n"
   ]
  },
  {
   "cell_type": "code",
   "execution_count": null,
   "metadata": {
    "colab": {
     "base_uri": "https://localhost:8080/",
     "height": 472
    },
    "id": "Yx87euWCssNn",
    "outputId": "b635ffe9-c687-489f-8931-caa0732e1a62"
   },
   "outputs": [],
   "source": [
    "import matplotlib.pyplot as plt\n",
    "\n",
    "\n",
    "# Line chart\n",
    "plt.plot(X_akhir['PREDIKSI'], label='PREDIKSI', marker='o')\n",
    "plt.plot(X_akhir['AKTUAL'], label='AKTUAL', marker='o')\n",
    "plt.title('Line Chart Predicted vs Aktual')\n",
    "plt.xlabel('Observation')\n",
    "plt.ylabel('Value')\n",
    "plt.legend()\n",
    "plt.show()\n"
   ]
  },
  {
   "cell_type": "code",
   "execution_count": null,
   "metadata": {},
   "outputs": [],
   "source": [
    "X_akhir"
   ]
  },
  {
   "cell_type": "code",
   "execution_count": null,
   "metadata": {},
   "outputs": [],
   "source": [
    "result"
   ]
  },
  {
   "cell_type": "code",
   "execution_count": null,
   "metadata": {},
   "outputs": [],
   "source": [
    "# Ambil nilai unik dari kolom Harga_x dan Harga_y\n",
    "unik_harga_x = result['HARGA_x'].unique()\n",
    "unik_harga_y = result['HARGA_y'].unique()\n",
    "\n",
    "# Tampilkan hasil\n",
    "print(\"Nilai unik Harga_x:\", unik_harga_x)\n",
    "print(\"Nilai unik Harga_y:\", unik_harga_y)"
   ]
  },
  {
   "cell_type": "code",
   "execution_count": null,
   "metadata": {},
   "outputs": [],
   "source": [
    "# Buat DataFrame baru untuk menyimpan hasil unik\n",
    "df_unik = pd.DataFrame({\n",
    "    'Harga_x_unik': unik_harga_x,\n",
    "    'Harga_y_unik': unik_harga_y\n",
    "})\n",
    "\n",
    "# Tampilkan hasil\n",
    "print(df_unik)"
   ]
  },
  {
   "cell_type": "code",
   "execution_count": null,
   "metadata": {},
   "outputs": [],
   "source": [
    "# Urutkan DataFrame berdasarkan Harga_x_unik\n",
    "df_unik_sorted = df_unik.sort_values(by='Harga_x_unik')\n",
    "\n",
    "# Tampilkan hasil\n",
    "print(df_unik_sorted)"
   ]
  },
  {
   "cell_type": "code",
   "execution_count": null,
   "metadata": {},
   "outputs": [],
   "source": [
    "X_akhir"
   ]
  },
  {
   "cell_type": "code",
   "execution_count": null,
   "metadata": {},
   "outputs": [],
   "source": [
    "X_train"
   ]
  },
  {
   "cell_type": "markdown",
   "metadata": {},
   "source": [
    "Jika Anda ingin mengubah data yang diberikan menjadi format yang dapat digunakan untuk prediksi, langkah-langkahnya akan melibatkan beberapa tahapan seperti encoding data kategorikal dan menyesuaikan struktur data. Berikut adalah contoh langkah-langkahnya:\n",
    "\n",
    "1. Encoding Data Kategorikal:\n",
    "        Lakukan encoding pada kolom-kolom yang bersifat kategorikal seperti 'JENIS_BARANG' dan 'FEATURE_TAMBAHAN'.\n",
    "\n",
    "2. Menghilangkan Kolom yang Tidak Diperlukan:\n",
    "        Hilangkan kolom-kolom yang tidak diperlukan untuk prediksi.\n",
    "\n",
    "3. Membuat Struktur DataFrame yang Sesuai:\n",
    "        Struktur DataFrame yang dihasilkan harus sesuai dengan struktur data yang digunakan saat melatih model."
   ]
  },
  {
   "cell_type": "code",
   "execution_count": null,
   "metadata": {},
   "outputs": [],
   "source": [
    "from sklearn.preprocessing import LabelEncoder\n",
    "\n",
    "# Data baru yang belum diencode\n",
    "\n",
    "data_baru = pd.DataFrame({\n",
    "    'SKOR': [1.000, 1.000, 1.000],\n",
    "    'ID_DETAIL': [905030584, 905030584, 905030584],\n",
    "    'JUMLAH': [66, 61, 66],\n",
    "    'FEATURE_TAMBAHAN': ['warranty', 'moneyback', 'moneyback'],\n",
    "    'JENIS_BARANG': ['Mitsubishi Pajero Sport 2.4 Dakar 4x2 Solar-AT...', 'Mitsubishi Pajero Sport 2.4 Dakar 4x2 Solar-AT...', 'Mitsubishi Pajero Sport 2.4 Dakar 4x2 Solar-AT...'],\n",
    "    'ID_DETAIL_BARANG': [5001329.0, 5001329.0, 5001329.0],\n",
    "    'TAHUN_PRODUK_RELEASE': [2016, 2016, 2023]\n",
    "})\n",
    "# Lakukan Label Encoding untuk kolom-kolom kategorikal\n",
    "label_encoder = LabelEncoder()\n",
    "\n",
    "for column in [ 'SKOR','ID_DETAIL','JUMLAH','FEATURE_TAMBAHAN','JENIS_BARANG','ID_DETAIL_BARANG','TAHUN_PRODUK_RELEASE']:\n",
    "    data_baru[column] = label_encoder.fit_transform(data_baru[column])\n",
    "\n",
    "# Gunakan model untuk memprediksi harga\n",
    "y_pred = multi_reg.predict(data_baru)\n"
   ]
  },
  {
   "cell_type": "code",
   "execution_count": null,
   "metadata": {},
   "outputs": [],
   "source": [
    "data_baru"
   ]
  },
  {
   "cell_type": "code",
   "execution_count": null,
   "metadata": {},
   "outputs": [],
   "source": [
    "y_pred"
   ]
  }
 ],
 "metadata": {
  "colab": {
   "provenance": []
  },
  "kernelspec": {
   "display_name": "Python 3 (ipykernel)",
   "language": "python",
   "name": "python3"
  },
  "language_info": {
   "codemirror_mode": {
    "name": "ipython",
    "version": 3
   },
   "file_extension": ".py",
   "mimetype": "text/x-python",
   "name": "python",
   "nbconvert_exporter": "python",
   "pygments_lexer": "ipython3",
   "version": "3.11.3"
  }
 },
 "nbformat": 4,
 "nbformat_minor": 4
}
